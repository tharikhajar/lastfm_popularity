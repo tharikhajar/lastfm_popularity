{
 "cells": [
  {
   "cell_type": "markdown",
   "metadata": {},
   "source": [
    "# LastFM Popularity\n",
    "\n",
    "<b>What</b> are the most popular music genres in LastFM? <b>Who</b> are the most popular artists in each genre, and <b>where</b> do they come from? <br>\n",
    "<b>When</b> the music was made? <b>What</b> are their mood?\n",
    "\n",
    "These are the questions that these project makes. We will levarege the [dataset](https://www.kaggle.com/pieca111/music-artists-popularity) made available in Kaggle by [Piotr](https://www.kaggle.com/pieca111) to answer them.\n",
    "\n",
    "### Lets take a look at the dataset."
   ]
  },
  {
   "cell_type": "code",
   "execution_count": 492,
   "metadata": {},
   "outputs": [
    {
     "data": {
      "text/html": [
       "<div>\n",
       "<style scoped>\n",
       "    .dataframe tbody tr th:only-of-type {\n",
       "        vertical-align: middle;\n",
       "    }\n",
       "\n",
       "    .dataframe tbody tr th {\n",
       "        vertical-align: top;\n",
       "    }\n",
       "\n",
       "    .dataframe thead th {\n",
       "        text-align: right;\n",
       "    }\n",
       "</style>\n",
       "<table border=\"1\" class=\"dataframe\">\n",
       "  <thead>\n",
       "    <tr style=\"text-align: right;\">\n",
       "      <th></th>\n",
       "      <th>mbid</th>\n",
       "      <th>artist_mb</th>\n",
       "      <th>artist_lastfm</th>\n",
       "      <th>country_mb</th>\n",
       "      <th>country_lastfm</th>\n",
       "      <th>tags_mb</th>\n",
       "      <th>tags_lastfm</th>\n",
       "      <th>listeners_lastfm</th>\n",
       "      <th>scrobbles_lastfm</th>\n",
       "      <th>ambiguous_artist</th>\n",
       "    </tr>\n",
       "  </thead>\n",
       "  <tbody>\n",
       "    <tr>\n",
       "      <th>0</th>\n",
       "      <td>cc197bad-dc9c-440d-a5b5-d52ba2e14234</td>\n",
       "      <td>Coldplay</td>\n",
       "      <td>Coldplay</td>\n",
       "      <td>United Kingdom</td>\n",
       "      <td>United Kingdom</td>\n",
       "      <td>rock; pop; alternative rock; british; uk; brit...</td>\n",
       "      <td>rock; alternative; britpop; alternative rock; ...</td>\n",
       "      <td>5381567.0</td>\n",
       "      <td>360111850.0</td>\n",
       "      <td>False</td>\n",
       "    </tr>\n",
       "  </tbody>\n",
       "</table>\n",
       "</div>"
      ],
      "text/plain": [
       "                                   mbid artist_mb artist_lastfm  \\\n",
       "0  cc197bad-dc9c-440d-a5b5-d52ba2e14234  Coldplay      Coldplay   \n",
       "\n",
       "       country_mb  country_lastfm  \\\n",
       "0  United Kingdom  United Kingdom   \n",
       "\n",
       "                                             tags_mb  \\\n",
       "0  rock; pop; alternative rock; british; uk; brit...   \n",
       "\n",
       "                                         tags_lastfm  listeners_lastfm  \\\n",
       "0  rock; alternative; britpop; alternative rock; ...         5381567.0   \n",
       "\n",
       "   scrobbles_lastfm  ambiguous_artist  \n",
       "0       360111850.0             False  "
      ]
     },
     "execution_count": 492,
     "metadata": {},
     "output_type": "execute_result"
    }
   ],
   "source": [
    "import pandas as pd\n",
    "\n",
    "df = pd.read_csv(\n",
    "    'Datasets/artists.csv',\n",
    "    dtype=dict(\n",
    "        artist_lastfm=str, \n",
    "        country_lastfm=str, \n",
    "        tags_lastfm=str\n",
    "        )\n",
    "    )\n",
    "\n",
    "df.head(1)"
   ]
  },
  {
   "cell_type": "markdown",
   "metadata": {},
   "source": [
    "To answer the questions we posed at the beginning, we will need:<br>\n",
    "- <b>ambiguous_artist</b> | Sometimes more than one artist may share the same name\n",
    "- <b>artist_lastfm</b> | Artist name in LastFM\n",
    "- <b>country_lastfm</b> | Their countries\n",
    "- <b>tags_lastfm</b> | Their tags\n",
    "- <b>listeners_lastfm</b> | You get the idea.\n",
    "- <b>scrobbles_lastfm</b>\n",
    "\n",
    "\n"
   ]
  },
  {
   "cell_type": "code",
   "execution_count": 493,
   "metadata": {},
   "outputs": [
    {
     "data": {
      "text/html": [
       "<div>\n",
       "<style scoped>\n",
       "    .dataframe tbody tr th:only-of-type {\n",
       "        vertical-align: middle;\n",
       "    }\n",
       "\n",
       "    .dataframe tbody tr th {\n",
       "        vertical-align: top;\n",
       "    }\n",
       "\n",
       "    .dataframe thead th {\n",
       "        text-align: right;\n",
       "    }\n",
       "</style>\n",
       "<table border=\"1\" class=\"dataframe\">\n",
       "  <thead>\n",
       "    <tr style=\"text-align: right;\">\n",
       "      <th></th>\n",
       "      <th>ambiguous_artist</th>\n",
       "      <th>artist_lastfm</th>\n",
       "      <th>country_lastfm</th>\n",
       "      <th>tags_lastfm</th>\n",
       "      <th>listeners_lastfm</th>\n",
       "      <th>scrobbles_lastfm</th>\n",
       "    </tr>\n",
       "  </thead>\n",
       "  <tbody>\n",
       "    <tr>\n",
       "      <th>0</th>\n",
       "      <td>False</td>\n",
       "      <td>Coldplay</td>\n",
       "      <td>United Kingdom</td>\n",
       "      <td>rock; alternative; britpop; alternative rock; ...</td>\n",
       "      <td>5381567.0</td>\n",
       "      <td>360111850.0</td>\n",
       "    </tr>\n",
       "    <tr>\n",
       "      <th>1</th>\n",
       "      <td>False</td>\n",
       "      <td>Radiohead</td>\n",
       "      <td>United Kingdom</td>\n",
       "      <td>alternative; alternative rock; rock; indie; el...</td>\n",
       "      <td>4732528.0</td>\n",
       "      <td>499548797.0</td>\n",
       "    </tr>\n",
       "    <tr>\n",
       "      <th>2</th>\n",
       "      <td>False</td>\n",
       "      <td>Red Hot Chili Peppers</td>\n",
       "      <td>United States</td>\n",
       "      <td>rock; alternative rock; alternative; Funk Rock...</td>\n",
       "      <td>4620835.0</td>\n",
       "      <td>293784041.0</td>\n",
       "    </tr>\n",
       "    <tr>\n",
       "      <th>3</th>\n",
       "      <td>False</td>\n",
       "      <td>Rihanna</td>\n",
       "      <td>Barbados; United States</td>\n",
       "      <td>pop; rnb; female vocalists; dance; Hip-Hop; Ri...</td>\n",
       "      <td>4558193.0</td>\n",
       "      <td>199248986.0</td>\n",
       "    </tr>\n",
       "    <tr>\n",
       "      <th>4</th>\n",
       "      <td>False</td>\n",
       "      <td>Eminem</td>\n",
       "      <td>United States</td>\n",
       "      <td>rap; Hip-Hop; Eminem; hip hop; pop; american; ...</td>\n",
       "      <td>4517997.0</td>\n",
       "      <td>199507511.0</td>\n",
       "    </tr>\n",
       "  </tbody>\n",
       "</table>\n",
       "</div>"
      ],
      "text/plain": [
       "   ambiguous_artist          artist_lastfm           country_lastfm  \\\n",
       "0             False               Coldplay           United Kingdom   \n",
       "1             False              Radiohead           United Kingdom   \n",
       "2             False  Red Hot Chili Peppers            United States   \n",
       "3             False                Rihanna  Barbados; United States   \n",
       "4             False                 Eminem            United States   \n",
       "\n",
       "                                         tags_lastfm  listeners_lastfm  \\\n",
       "0  rock; alternative; britpop; alternative rock; ...         5381567.0   \n",
       "1  alternative; alternative rock; rock; indie; el...         4732528.0   \n",
       "2  rock; alternative rock; alternative; Funk Rock...         4620835.0   \n",
       "3  pop; rnb; female vocalists; dance; Hip-Hop; Ri...         4558193.0   \n",
       "4  rap; Hip-Hop; Eminem; hip hop; pop; american; ...         4517997.0   \n",
       "\n",
       "   scrobbles_lastfm  \n",
       "0       360111850.0  \n",
       "1       499548797.0  \n",
       "2       293784041.0  \n",
       "3       199248986.0  \n",
       "4       199507511.0  "
      ]
     },
     "execution_count": 493,
     "metadata": {},
     "output_type": "execute_result"
    }
   ],
   "source": [
    "df = df[['ambiguous_artist', 'artist_lastfm', 'country_lastfm', 'tags_lastfm', 'listeners_lastfm', 'scrobbles_lastfm']]\n",
    "df.head()"
   ]
  },
  {
   "cell_type": "markdown",
   "metadata": {},
   "source": [
    "Way better.\n",
    "### <b>However</b>"
   ]
  },
  {
   "cell_type": "code",
   "execution_count": 494,
   "metadata": {},
   "outputs": [
    {
     "data": {
      "text/html": [
       "<div>\n",
       "<style scoped>\n",
       "    .dataframe tbody tr th:only-of-type {\n",
       "        vertical-align: middle;\n",
       "    }\n",
       "\n",
       "    .dataframe tbody tr th {\n",
       "        vertical-align: top;\n",
       "    }\n",
       "\n",
       "    .dataframe thead th {\n",
       "        text-align: right;\n",
       "    }\n",
       "</style>\n",
       "<table border=\"1\" class=\"dataframe\">\n",
       "  <thead>\n",
       "    <tr style=\"text-align: right;\">\n",
       "      <th></th>\n",
       "      <th>ambiguous_artist</th>\n",
       "      <th>artist_lastfm</th>\n",
       "      <th>country_lastfm</th>\n",
       "      <th>tags_lastfm</th>\n",
       "      <th>listeners_lastfm</th>\n",
       "      <th>scrobbles_lastfm</th>\n",
       "    </tr>\n",
       "  </thead>\n",
       "  <tbody>\n",
       "    <tr>\n",
       "      <th>1466078</th>\n",
       "      <td>False</td>\n",
       "      <td>NaN</td>\n",
       "      <td>South Korea</td>\n",
       "      <td>NaN</td>\n",
       "      <td>NaN</td>\n",
       "      <td>NaN</td>\n",
       "    </tr>\n",
       "    <tr>\n",
       "      <th>1466079</th>\n",
       "      <td>False</td>\n",
       "      <td>NaN</td>\n",
       "      <td>NaN</td>\n",
       "      <td>NaN</td>\n",
       "      <td>NaN</td>\n",
       "      <td>NaN</td>\n",
       "    </tr>\n",
       "    <tr>\n",
       "      <th>1466080</th>\n",
       "      <td>False</td>\n",
       "      <td>NaN</td>\n",
       "      <td>NaN</td>\n",
       "      <td>NaN</td>\n",
       "      <td>NaN</td>\n",
       "      <td>NaN</td>\n",
       "    </tr>\n",
       "    <tr>\n",
       "      <th>1466081</th>\n",
       "      <td>False</td>\n",
       "      <td>NaN</td>\n",
       "      <td>South Korea</td>\n",
       "      <td>NaN</td>\n",
       "      <td>NaN</td>\n",
       "      <td>NaN</td>\n",
       "    </tr>\n",
       "    <tr>\n",
       "      <th>1466082</th>\n",
       "      <td>False</td>\n",
       "      <td>NaN</td>\n",
       "      <td>South Korea</td>\n",
       "      <td>NaN</td>\n",
       "      <td>NaN</td>\n",
       "      <td>NaN</td>\n",
       "    </tr>\n",
       "  </tbody>\n",
       "</table>\n",
       "</div>"
      ],
      "text/plain": [
       "         ambiguous_artist artist_lastfm country_lastfm tags_lastfm  \\\n",
       "1466078             False           NaN    South Korea         NaN   \n",
       "1466079             False           NaN            NaN         NaN   \n",
       "1466080             False           NaN            NaN         NaN   \n",
       "1466081             False           NaN    South Korea         NaN   \n",
       "1466082             False           NaN    South Korea         NaN   \n",
       "\n",
       "         listeners_lastfm  scrobbles_lastfm  \n",
       "1466078               NaN               NaN  \n",
       "1466079               NaN               NaN  \n",
       "1466080               NaN               NaN  \n",
       "1466081               NaN               NaN  \n",
       "1466082               NaN               NaN  "
      ]
     },
     "execution_count": 494,
     "metadata": {},
     "output_type": "execute_result"
    }
   ],
   "source": [
    "df.tail()"
   ]
  },
  {
   "cell_type": "markdown",
   "metadata": {},
   "source": [
    "Looks like we have our fair share of null values"
   ]
  },
  {
   "cell_type": "code",
   "execution_count": 495,
   "metadata": {},
   "outputs": [
    {
     "data": {
      "image/png": "[encoded data removed]",
      "text/plain": [
       "<Figure size 432x288 with 1 Axes>"
      ]
     },
     "metadata": {
      "needs_background": "light"
     },
     "output_type": "display_data"
    }
   ],
   "source": [
    "null_rate = (df.isna().sum() / len(df)) * 100\n",
    "\n",
    "ax = (\n",
    "    null_rate\n",
    "    .sort_values()\n",
    "    .plot.barh(title='Percentage of null values by column')\n",
    "    )"
   ]
  },
  {
   "cell_type": "markdown",
   "metadata": {},
   "source": [
    "The column with the highest number of null values is country_lastfm, with a <b>null rate of approximately 85%</b>. <br>\n",
    "\n",
    "It might reasonable to assume that the artists with no country filled in their lastfm page should not be among the most popular. Lets drop all null values and check how many plays we lose"
   ]
  },
  {
   "cell_type": "code",
   "execution_count": 496,
   "metadata": {},
   "outputs": [
    {
     "name": "stdout",
     "output_type": "stream",
     "text": [
      "Total scrobbles (plays) before filtering null values:\n",
      "120,324,972,038.0\n",
      "...and after:\n",
      "102,827,413,080.0\n"
     ]
    }
   ],
   "source": [
    "print('Total scrobbles (plays) before filtering null values:')\n",
    "print(f'{df[\"scrobbles_lastfm\"].sum():,}')\n",
    "\n",
    "df.dropna(axis=0, how='any', inplace=True)\n",
    "\n",
    "print('...and after:')\n",
    "print(f'{df[\"scrobbles_lastfm\"].sum():,}')"
   ]
  },
  {
   "cell_type": "markdown",
   "metadata": {},
   "source": [
    "So we are losing less than 20% of the total plays by doing so.<br><br>\n",
    "Now, lets see how much we lose by dropping the ambiguous artists"
   ]
  },
  {
   "cell_type": "code",
   "execution_count": 497,
   "metadata": {},
   "outputs": [
    {
     "name": "stdout",
     "output_type": "stream",
     "text": [
      "Total number of plays: 87,214,810,301.0\n",
      "Total number of unique artists: 171,128\n"
     ]
    }
   ],
   "source": [
    "df.drop(df[df['ambiguous_artist']].index, inplace=True)\n",
    "df.drop(df[df['scrobbles_lastfm'] <= 0].index, inplace=True) # lets drop artists with no plays as well\n",
    "\n",
    "print('Total number of plays:' ,f'{df[\"scrobbles_lastfm\"].sum():,}')\n",
    "print('Total number of unique artists:' ,f'{len(df):,}')"
   ]
  },
  {
   "cell_type": "markdown",
   "metadata": {},
   "source": [
    "So we are set with 3/4 of the original number of plays and with over 170 thousand unique artists. That will do. <br><br>\n",
    "Some standard dataprep:"
   ]
  },
  {
   "cell_type": "code",
   "execution_count": 498,
   "metadata": {},
   "outputs": [
    {
     "data": {
      "text/html": [
       "<div>\n",
       "<style scoped>\n",
       "    .dataframe tbody tr th:only-of-type {\n",
       "        vertical-align: middle;\n",
       "    }\n",
       "\n",
       "    .dataframe tbody tr th {\n",
       "        vertical-align: top;\n",
       "    }\n",
       "\n",
       "    .dataframe thead th {\n",
       "        text-align: right;\n",
       "    }\n",
       "</style>\n",
       "<table border=\"1\" class=\"dataframe\">\n",
       "  <thead>\n",
       "    <tr style=\"text-align: right;\">\n",
       "      <th></th>\n",
       "      <th>artist</th>\n",
       "      <th>country</th>\n",
       "      <th>tags</th>\n",
       "      <th>listeners</th>\n",
       "      <th>scrobbles</th>\n",
       "    </tr>\n",
       "  </thead>\n",
       "  <tbody>\n",
       "    <tr>\n",
       "      <th>17</th>\n",
       "      <td>The Beatles</td>\n",
       "      <td>United Kingdom</td>\n",
       "      <td>classic rock; rock; british; 60s; pop</td>\n",
       "      <td>3674017</td>\n",
       "      <td>517126254</td>\n",
       "    </tr>\n",
       "    <tr>\n",
       "      <th>1</th>\n",
       "      <td>Radiohead</td>\n",
       "      <td>United Kingdom</td>\n",
       "      <td>alternative; alternative rock; rock; indie; el...</td>\n",
       "      <td>4732528</td>\n",
       "      <td>499548797</td>\n",
       "    </tr>\n",
       "    <tr>\n",
       "      <th>0</th>\n",
       "      <td>Coldplay</td>\n",
       "      <td>United Kingdom</td>\n",
       "      <td>rock; alternative; britpop; alternative rock; ...</td>\n",
       "      <td>5381567</td>\n",
       "      <td>360111850</td>\n",
       "    </tr>\n",
       "    <tr>\n",
       "      <th>8</th>\n",
       "      <td>Muse</td>\n",
       "      <td>United Kingdom</td>\n",
       "      <td>alternative rock; rock; alternative; Progressi...</td>\n",
       "      <td>4089612</td>\n",
       "      <td>344838631</td>\n",
       "    </tr>\n",
       "    <tr>\n",
       "      <th>23</th>\n",
       "      <td>Arctic Monkeys</td>\n",
       "      <td>United Kingdom</td>\n",
       "      <td>indie rock; indie; british; rock; alternative;...</td>\n",
       "      <td>3501680</td>\n",
       "      <td>332306552</td>\n",
       "    </tr>\n",
       "  </tbody>\n",
       "</table>\n",
       "</div>"
      ],
      "text/plain": [
       "            artist         country  \\\n",
       "17     The Beatles  United Kingdom   \n",
       "1        Radiohead  United Kingdom   \n",
       "0         Coldplay  United Kingdom   \n",
       "8             Muse  United Kingdom   \n",
       "23  Arctic Monkeys  United Kingdom   \n",
       "\n",
       "                                                 tags  listeners  scrobbles  \n",
       "17              classic rock; rock; british; 60s; pop    3674017  517126254  \n",
       "1   alternative; alternative rock; rock; indie; el...    4732528  499548797  \n",
       "0   rock; alternative; britpop; alternative rock; ...    5381567  360111850  \n",
       "8   alternative rock; rock; alternative; Progressi...    4089612  344838631  \n",
       "23  indie rock; indie; british; rock; alternative;...    3501680  332306552  "
      ]
     },
     "execution_count": 498,
     "metadata": {},
     "output_type": "execute_result"
    }
   ],
   "source": [
    "df.drop(['ambiguous_artist'], axis=1, inplace=True) # We don't need this column anymore\n",
    "df.columns = ['artist', 'country', 'tags','listeners', 'scrobbles'] # If not at the sacrifice of clarity, shorter names = good\n",
    "df[['scrobbles', 'listeners']] = df[['scrobbles', 'listeners']].astype(int) # There are no half listeners (nor half scrobble)\n",
    "df.sort_values(by='scrobbles', ascending=False, inplace=True)\n",
    "\n",
    "df.head()"
   ]
  },
  {
   "cell_type": "markdown",
   "metadata": {},
   "source": [
    "### We could really use these tags, if only they were each in their own row...."
   ]
  },
  {
   "cell_type": "code",
   "execution_count": 499,
   "metadata": {},
   "outputs": [
    {
     "data": {
      "text/html": [
       "<div>\n",
       "<style scoped>\n",
       "    .dataframe tbody tr th:only-of-type {\n",
       "        vertical-align: middle;\n",
       "    }\n",
       "\n",
       "    .dataframe tbody tr th {\n",
       "        vertical-align: top;\n",
       "    }\n",
       "\n",
       "    .dataframe thead th {\n",
       "        text-align: right;\n",
       "    }\n",
       "</style>\n",
       "<table border=\"1\" class=\"dataframe\">\n",
       "  <thead>\n",
       "    <tr style=\"text-align: right;\">\n",
       "      <th></th>\n",
       "      <th>artist</th>\n",
       "      <th>country</th>\n",
       "      <th>tags</th>\n",
       "      <th>listeners</th>\n",
       "      <th>scrobbles</th>\n",
       "    </tr>\n",
       "  </thead>\n",
       "  <tbody>\n",
       "    <tr>\n",
       "      <th>0</th>\n",
       "      <td>The Beatles</td>\n",
       "      <td>United Kingdom</td>\n",
       "      <td>classic rock</td>\n",
       "      <td>3674017</td>\n",
       "      <td>517126254</td>\n",
       "    </tr>\n",
       "    <tr>\n",
       "      <th>1</th>\n",
       "      <td>The Beatles</td>\n",
       "      <td>United Kingdom</td>\n",
       "      <td>rock</td>\n",
       "      <td>3674017</td>\n",
       "      <td>517126254</td>\n",
       "    </tr>\n",
       "    <tr>\n",
       "      <th>2</th>\n",
       "      <td>The Beatles</td>\n",
       "      <td>United Kingdom</td>\n",
       "      <td>british</td>\n",
       "      <td>3674017</td>\n",
       "      <td>517126254</td>\n",
       "    </tr>\n",
       "    <tr>\n",
       "      <th>3</th>\n",
       "      <td>The Beatles</td>\n",
       "      <td>United Kingdom</td>\n",
       "      <td>60s</td>\n",
       "      <td>3674017</td>\n",
       "      <td>517126254</td>\n",
       "    </tr>\n",
       "    <tr>\n",
       "      <th>4</th>\n",
       "      <td>The Beatles</td>\n",
       "      <td>United Kingdom</td>\n",
       "      <td>pop</td>\n",
       "      <td>3674017</td>\n",
       "      <td>517126254</td>\n",
       "    </tr>\n",
       "  </tbody>\n",
       "</table>\n",
       "</div>"
      ],
      "text/plain": [
       "        artist         country          tags  listeners  scrobbles\n",
       "0  The Beatles  United Kingdom  classic rock    3674017  517126254\n",
       "1  The Beatles  United Kingdom          rock    3674017  517126254\n",
       "2  The Beatles  United Kingdom       british    3674017  517126254\n",
       "3  The Beatles  United Kingdom           60s    3674017  517126254\n",
       "4  The Beatles  United Kingdom           pop    3674017  517126254"
      ]
     },
     "execution_count": 499,
     "metadata": {},
     "output_type": "execute_result"
    }
   ],
   "source": [
    "df['tags'] = df['tags'].apply(lambda x: x.split('; '))\n",
    "df['country'] = df['country'].apply(lambda x: x.split('; ')) # Some gorups have members from multiple countries\n",
    "\n",
    "df = df.explode('tags')\n",
    "df = df.explode('country')\n",
    "\n",
    "df.reset_index(inplace=True, drop=True)\n",
    "df.head()"
   ]
  },
  {
   "cell_type": "markdown",
   "metadata": {},
   "source": [
    "### There you go."
   ]
  },
  {
   "cell_type": "code",
   "execution_count": 500,
   "metadata": {},
   "outputs": [
    {
     "name": "stdout",
     "output_type": "stream",
     "text": [
      "323,038\n"
     ]
    }
   ],
   "source": [
    "tags = df.groupby(by='tags').size().sort_values(ascending=False)\n",
    "print(f'{len(tags):,}')"
   ]
  },
  {
   "cell_type": "markdown",
   "metadata": {},
   "source": [
    "We have <b>323,038</b> unique tags."
   ]
  },
  {
   "cell_type": "markdown",
   "metadata": {},
   "source": [
    "<b>Which is quite a lot.</b> <br>\n",
    "<br>\n",
    "Lets take a look at them"
   ]
  },
  {
   "cell_type": "code",
   "execution_count": 501,
   "metadata": {},
   "outputs": [
    {
     "name": "stdout",
     "output_type": "stream",
     "text": [
      "Index(['seen live', 'rock', 'electronic', 'pop', 'All', 'indie', 'alternative',\n",
      "       'female vocalists', 'under 2000 listeners', 'experimental', 'american',\n",
      "       'folk', 'metal', 'punk', 'male vocalists', 'electronica', 'ambient',\n",
      "       'spotify', 'USA', 'jazz', 'singer-songwriter', 'instrumental',\n",
      "       'hardcore', '00s', 'dance', 'alternative rock', 'indie rock', 'german',\n",
      "       'japanese', 'british', 'Hip-Hop', 'punk rock', '90s', 'psychedelic',\n",
      "       'electro', 'world', '80s', 'chillout', 'death metal', 'acoustic',\n",
      "       'french', 'black metal', 'rap', 'indie pop', 'female vocalist',\n",
      "       'hard rock', 'hip hop', 'techno', 'heavy metal', 'soul'],\n",
      "      dtype='object', name='tags')\n"
     ]
    }
   ],
   "source": [
    "print(tags.index[:50])"
   ]
  },
  {
   "cell_type": "markdown",
   "metadata": {},
   "source": [
    "### Warning! Arbitraty decisions below\n",
    "# EXPLAIN\n",
    "- Musical genre\n",
    "- Mood\n",
    "- Decade"
   ]
  },
  {
   "cell_type": "code",
   "execution_count": 502,
   "metadata": {},
   "outputs": [],
   "source": [
    "from tag_flagger import tag_flagger_machine"
   ]
  },
  {
   "cell_type": "code",
   "execution_count": 503,
   "metadata": {},
   "outputs": [
    {
     "name": "stdout",
     "output_type": "stream",
     "text": [
      " \n",
      " --------------------        \n",
      " 1 = genre        \n",
      " 2 = mood        \n",
      " 3 = instrument        \n",
      " r = tag name did not display: reload        \n",
      " x = exit program        \n",
      " anything else = dump        \n",
      " -------------------- \n",
      " Tag: dance pop\n",
      "Tags 830 to 830 have been successfully classified!\n"
     ]
    },
    {
     "data": {
      "text/plain": [
       "{'genre': {'values': [], 'message': ' -> genre'},\n",
       " 'mood': {'values': [], 'message': ' -> mood'},\n",
       " 'instrument': {'values': [], 'message': ' -> instrument'}}"
      ]
     },
     "execution_count": 503,
     "metadata": {},
     "output_type": "execute_result"
    }
   ],
   "source": [
    "tag_flagger_machine(tags.index, start_index=830)"
   ]
  },
  {
   "cell_type": "code",
   "execution_count": 504,
   "metadata": {},
   "outputs": [],
   "source": [
    "tags_csv_path = f'Datasets\\\\tags_classification\\\\'\n",
    "tags_csv_dir = os.listdir(tags_csv_path)\n",
    "df_tags = pd.DataFrame(columns=['tag_category', 'tags'])\n",
    "\n",
    "for file in my_dir:\n",
    "    if '.csv' in file:\n",
    "        df_temp = pd.read_csv(tags_csv_path + file, delimiter=';', index_col=0, names=['tag_category', 'tags'])\n",
    "        df_tags = pd.concat([df_tags, df_temp], ignore_index=True)"
   ]
  },
  {
   "cell_type": "markdown",
   "metadata": {},
   "source": [
    "### Was this genre more active in the 60s or the 70s?\n",
    "Lets add a few tags manually so we can answer this question later"
   ]
  },
  {
   "cell_type": "code",
   "execution_count": 505,
   "metadata": {},
   "outputs": [
    {
     "data": {
      "text/html": [
       "<div>\n",
       "<style scoped>\n",
       "    .dataframe tbody tr th:only-of-type {\n",
       "        vertical-align: middle;\n",
       "    }\n",
       "\n",
       "    .dataframe tbody tr th {\n",
       "        vertical-align: top;\n",
       "    }\n",
       "\n",
       "    .dataframe thead th {\n",
       "        text-align: right;\n",
       "    }\n",
       "</style>\n",
       "<table border=\"1\" class=\"dataframe\">\n",
       "  <thead>\n",
       "    <tr style=\"text-align: right;\">\n",
       "      <th></th>\n",
       "      <th>tag_category</th>\n",
       "      <th>tags</th>\n",
       "    </tr>\n",
       "  </thead>\n",
       "  <tbody>\n",
       "    <tr>\n",
       "      <th>3</th>\n",
       "      <td>decade</td>\n",
       "      <td>70s</td>\n",
       "    </tr>\n",
       "    <tr>\n",
       "      <th>4</th>\n",
       "      <td>decade</td>\n",
       "      <td>80s</td>\n",
       "    </tr>\n",
       "    <tr>\n",
       "      <th>5</th>\n",
       "      <td>decade</td>\n",
       "      <td>90s</td>\n",
       "    </tr>\n",
       "    <tr>\n",
       "      <th>6</th>\n",
       "      <td>decade</td>\n",
       "      <td>00s</td>\n",
       "    </tr>\n",
       "    <tr>\n",
       "      <th>7</th>\n",
       "      <td>decade</td>\n",
       "      <td>10s</td>\n",
       "    </tr>\n",
       "  </tbody>\n",
       "</table>\n",
       "</div>"
      ],
      "text/plain": [
       "  tag_category tags\n",
       "3       decade  70s\n",
       "4       decade  80s\n",
       "5       decade  90s\n",
       "6       decade  00s\n",
       "7       decade  10s"
      ]
     },
     "execution_count": 505,
     "metadata": {},
     "output_type": "execute_result"
    }
   ],
   "source": [
    "df_decades = pd.DataFrame(data={'tags': ['40s', '50s', '60s', '70s', '80s', '90s', '00s', '10s']})\n",
    "df_decades['tag_category'] = 'decade'\n",
    "df_tags = df_tags.append(df_decades)\n",
    "\n",
    "df_tags.tail()"
   ]
  },
  {
   "cell_type": "markdown",
   "metadata": {},
   "source": [
    "### It looks like some tags can be written in more than one way..."
   ]
  },
  {
   "cell_type": "code",
   "execution_count": 506,
   "metadata": {},
   "outputs": [
    {
     "data": {
      "text/html": [
       "<div>\n",
       "<style scoped>\n",
       "    .dataframe tbody tr th:only-of-type {\n",
       "        vertical-align: middle;\n",
       "    }\n",
       "\n",
       "    .dataframe tbody tr th {\n",
       "        vertical-align: top;\n",
       "    }\n",
       "\n",
       "    .dataframe thead th {\n",
       "        text-align: right;\n",
       "    }\n",
       "</style>\n",
       "<table border=\"1\" class=\"dataframe\">\n",
       "  <thead>\n",
       "    <tr style=\"text-align: right;\">\n",
       "      <th></th>\n",
       "      <th>tag_category</th>\n",
       "      <th>tags</th>\n",
       "    </tr>\n",
       "  </thead>\n",
       "  <tbody>\n",
       "    <tr>\n",
       "      <th>75</th>\n",
       "      <td>genre</td>\n",
       "      <td>rock'n'roll</td>\n",
       "    </tr>\n",
       "    <tr>\n",
       "      <th>180</th>\n",
       "      <td>genre</td>\n",
       "      <td>rock n roll</td>\n",
       "    </tr>\n",
       "  </tbody>\n",
       "</table>\n",
       "</div>"
      ],
      "text/plain": [
       "    tag_category         tags\n",
       "75         genre  rock'n'roll\n",
       "180        genre  rock n roll"
      ]
     },
     "execution_count": 506,
     "metadata": {},
     "output_type": "execute_result"
    }
   ],
   "source": [
    "df_tags[(df_tags['tags'] == \"rock'n'roll\") | (df_tags['tags'] == 'rock n roll')]"
   ]
  },
  {
   "cell_type": "markdown",
   "metadata": {},
   "source": [
    "In this case if we removed empty spaces and the ' character we would be able to map both instanced of Rock'n'Roll tag to the same value"
   ]
  },
  {
   "cell_type": "code",
   "execution_count": 507,
   "metadata": {},
   "outputs": [
    {
     "data": {
      "text/plain": [
       "array(['METAL', 'PUNK', 'JAZZ', 'HARDCORE', 'ALTERNATIVEROCK',\n",
       "       'INDIEROCK', 'PUNKROCK', 'ELECTRO', 'CHILLOUT', 'DEATHMETAL',\n",
       "       'BLACKMETAL', 'RAP', 'INDIEPOP', 'HARDROCK', 'HIPHOP', 'TECHNO',\n",
       "       'HEAVYMETAL', 'SOUL', 'HOUSE', 'PROGRESSIVEROCK'], dtype=object)"
      ]
     },
     "execution_count": 507,
     "metadata": {},
     "output_type": "execute_result"
    }
   ],
   "source": [
    "df_tags['tag_clean'] = df_tags['tags'].str.upper()\n",
    "\n",
    "(df_tags['tag_clean']\n",
    "    .replace(['&', 'AND'], 'N',\n",
    "    regex=True, inplace=True))\n",
    "\n",
    "(df_tags['tag_clean']\n",
    "    .replace([\"'\", ' ', '-'], '',\n",
    "    regex=True, inplace=True))\n",
    "    \n",
    "df_tags['tag_clean'][:20].values"
   ]
  },
  {
   "cell_type": "markdown",
   "metadata": {},
   "source": [
    "How many duplicate tags were we able to map?"
   ]
  },
  {
   "cell_type": "code",
   "execution_count": 508,
   "metadata": {},
   "outputs": [
    {
     "name": "stdout",
     "output_type": "stream",
     "text": [
      "Unique tags before cleaning: 245\n",
      "Unique tags after cleaning:  215\n"
     ]
    }
   ],
   "source": [
    "print('Unique tags before cleaning:', len(df_tags))\n",
    "print('Unique tags after cleaning: ', len(df_tags.drop_duplicates(subset='tag_clean')))"
   ]
  },
  {
   "cell_type": "markdown",
   "metadata": {},
   "source": [
    "So we got rid of 30 duplicate tags<br>\n",
    "We will match all variations of a given genre to the way it was written in its first appearence"
   ]
  },
  {
   "cell_type": "code",
   "execution_count": 509,
   "metadata": {},
   "outputs": [
    {
     "data": {
      "text/html": [
       "<div>\n",
       "<style scoped>\n",
       "    .dataframe tbody tr th:only-of-type {\n",
       "        vertical-align: middle;\n",
       "    }\n",
       "\n",
       "    .dataframe tbody tr th {\n",
       "        vertical-align: top;\n",
       "    }\n",
       "\n",
       "    .dataframe thead th {\n",
       "        text-align: right;\n",
       "    }\n",
       "</style>\n",
       "<table border=\"1\" class=\"dataframe\">\n",
       "  <thead>\n",
       "    <tr style=\"text-align: right;\">\n",
       "      <th></th>\n",
       "      <th>tag_category</th>\n",
       "      <th>tags</th>\n",
       "      <th>tag_clean</th>\n",
       "      <th>tag_to_keep</th>\n",
       "    </tr>\n",
       "  </thead>\n",
       "  <tbody>\n",
       "    <tr>\n",
       "      <th>75</th>\n",
       "      <td>genre</td>\n",
       "      <td>rock'n'roll</td>\n",
       "      <td>ROCKNROLL</td>\n",
       "      <td>rock'n'roll</td>\n",
       "    </tr>\n",
       "    <tr>\n",
       "      <th>180</th>\n",
       "      <td>genre</td>\n",
       "      <td>rock n roll</td>\n",
       "      <td>ROCKNROLL</td>\n",
       "      <td>rock'n'roll</td>\n",
       "    </tr>\n",
       "    <tr>\n",
       "      <th>186</th>\n",
       "      <td>genre</td>\n",
       "      <td>Rock and Roll</td>\n",
       "      <td>ROCKNROLL</td>\n",
       "      <td>rock'n'roll</td>\n",
       "    </tr>\n",
       "  </tbody>\n",
       "</table>\n",
       "</div>"
      ],
      "text/plain": [
       "    tag_category           tags  tag_clean  tag_to_keep\n",
       "75         genre    rock'n'roll  ROCKNROLL  rock'n'roll\n",
       "180        genre    rock n roll  ROCKNROLL  rock'n'roll\n",
       "186        genre  Rock and Roll  ROCKNROLL  rock'n'roll"
      ]
     },
     "execution_count": 509,
     "metadata": {},
     "output_type": "execute_result"
    }
   ],
   "source": [
    "tags_to_keep_series = df_tags.groupby('tag_clean')['tags'].first()\n",
    "df_tags['tag_to_keep'] = df_tags['tag_clean'].map(tags_to_keep_series)\n",
    "df_tags[df_tags['tag_clean'] == 'ROCKNROLL']"
   ]
  },
  {
   "cell_type": "markdown",
   "metadata": {},
   "source": [
    "Its time to bring out tags selection, mapping and classification to the main dataframe  "
   ]
  },
  {
   "cell_type": "code",
   "execution_count": 510,
   "metadata": {},
   "outputs": [],
   "source": [
    "# I'm not using inner join to filter because it sorts the dataset and we will leverage the tag order soon\n",
    "df = df.merge(df_tags[['tags', 'tag_to_keep', 'tag_category']],\n",
    "            on='tags', how='left')\n",
    "df.dropna(subset=['tag_to_keep'], inplace=True)\n",
    "\n",
    "df.drop(columns='tags', inplace=True)\n",
    "\n",
    "df = df[['artist', 'country', 'tag_category', 'tag_to_keep', 'listeners', 'scrobbles']]\n",
    "df.columns = ['artist', 'country', 'tag_category', 'tags', 'listeners', 'scrobbles']"
   ]
  },
  {
   "cell_type": "markdown",
   "metadata": {},
   "source": [
    "We don't need two tags telling me that Led Zeppelin is Rock'n'Roll"
   ]
  },
  {
   "cell_type": "code",
   "execution_count": 511,
   "metadata": {},
   "outputs": [
    {
     "data": {
      "text/html": [
       "<div>\n",
       "<style scoped>\n",
       "    .dataframe tbody tr th:only-of-type {\n",
       "        vertical-align: middle;\n",
       "    }\n",
       "\n",
       "    .dataframe tbody tr th {\n",
       "        vertical-align: top;\n",
       "    }\n",
       "\n",
       "    .dataframe thead th {\n",
       "        text-align: right;\n",
       "    }\n",
       "</style>\n",
       "<table border=\"1\" class=\"dataframe\">\n",
       "  <thead>\n",
       "    <tr style=\"text-align: right;\">\n",
       "      <th></th>\n",
       "      <th>artist</th>\n",
       "      <th>country</th>\n",
       "      <th>tag_category</th>\n",
       "      <th>tags</th>\n",
       "      <th>listeners</th>\n",
       "      <th>scrobbles</th>\n",
       "    </tr>\n",
       "  </thead>\n",
       "  <tbody>\n",
       "    <tr>\n",
       "      <th>900</th>\n",
       "      <td>Led Zeppelin</td>\n",
       "      <td>United Kingdom</td>\n",
       "      <td>genre</td>\n",
       "      <td>rock'n'roll</td>\n",
       "      <td>2930957</td>\n",
       "      <td>188306100</td>\n",
       "    </tr>\n",
       "    <tr>\n",
       "      <th>907</th>\n",
       "      <td>Led Zeppelin</td>\n",
       "      <td>United Kingdom</td>\n",
       "      <td>genre</td>\n",
       "      <td>rock'n'roll</td>\n",
       "      <td>2930957</td>\n",
       "      <td>188306100</td>\n",
       "    </tr>\n",
       "  </tbody>\n",
       "</table>\n",
       "</div>"
      ],
      "text/plain": [
       "           artist         country tag_category         tags  listeners  \\\n",
       "900  Led Zeppelin  United Kingdom        genre  rock'n'roll    2930957   \n",
       "907  Led Zeppelin  United Kingdom        genre  rock'n'roll    2930957   \n",
       "\n",
       "     scrobbles  \n",
       "900  188306100  \n",
       "907  188306100  "
      ]
     },
     "execution_count": 511,
     "metadata": {},
     "output_type": "execute_result"
    }
   ],
   "source": [
    "df[(df['tags'] == \"rock'n'roll\") & (df['artist'] == 'Led Zeppelin')]"
   ]
  },
  {
   "cell_type": "code",
   "execution_count": 512,
   "metadata": {},
   "outputs": [
    {
     "data": {
      "text/html": [
       "<div>\n",
       "<style scoped>\n",
       "    .dataframe tbody tr th:only-of-type {\n",
       "        vertical-align: middle;\n",
       "    }\n",
       "\n",
       "    .dataframe tbody tr th {\n",
       "        vertical-align: top;\n",
       "    }\n",
       "\n",
       "    .dataframe thead th {\n",
       "        text-align: right;\n",
       "    }\n",
       "</style>\n",
       "<table border=\"1\" class=\"dataframe\">\n",
       "  <thead>\n",
       "    <tr style=\"text-align: right;\">\n",
       "      <th></th>\n",
       "      <th>artist</th>\n",
       "      <th>country</th>\n",
       "      <th>tag_category</th>\n",
       "      <th>tags</th>\n",
       "      <th>listeners</th>\n",
       "      <th>scrobbles</th>\n",
       "    </tr>\n",
       "  </thead>\n",
       "  <tbody>\n",
       "    <tr>\n",
       "      <th>900</th>\n",
       "      <td>Led Zeppelin</td>\n",
       "      <td>United Kingdom</td>\n",
       "      <td>genre</td>\n",
       "      <td>rock'n'roll</td>\n",
       "      <td>2930957</td>\n",
       "      <td>188306100</td>\n",
       "    </tr>\n",
       "  </tbody>\n",
       "</table>\n",
       "</div>"
      ],
      "text/plain": [
       "           artist         country tag_category         tags  listeners  \\\n",
       "900  Led Zeppelin  United Kingdom        genre  rock'n'roll    2930957   \n",
       "\n",
       "     scrobbles  \n",
       "900  188306100  "
      ]
     },
     "execution_count": 512,
     "metadata": {},
     "output_type": "execute_result"
    }
   ],
   "source": [
    "df.drop_duplicates(subset=['artist', 'country', 'tags'], inplace=True)\n",
    "df[(df['tags'] == \"rock'n'roll\") & (df['artist'] == 'Led Zeppelin')]"
   ]
  },
  {
   "cell_type": "markdown",
   "metadata": {},
   "source": [
    "### But...\n",
    "We still have an issue to solve.<br>\n",
    "Lets take a look at all the genres that we are currently assigning to <b>Radiohead<b/>"
   ]
  },
  {
   "cell_type": "code",
   "execution_count": 513,
   "metadata": {},
   "outputs": [
    {
     "data": {
      "text/html": [
       "<div>\n",
       "<style scoped>\n",
       "    .dataframe tbody tr th:only-of-type {\n",
       "        vertical-align: middle;\n",
       "    }\n",
       "\n",
       "    .dataframe tbody tr th {\n",
       "        vertical-align: top;\n",
       "    }\n",
       "\n",
       "    .dataframe thead th {\n",
       "        text-align: right;\n",
       "    }\n",
       "</style>\n",
       "<table border=\"1\" class=\"dataframe\">\n",
       "  <thead>\n",
       "    <tr style=\"text-align: right;\">\n",
       "      <th></th>\n",
       "      <th>artist</th>\n",
       "      <th>tags</th>\n",
       "    </tr>\n",
       "  </thead>\n",
       "  <tbody>\n",
       "    <tr>\n",
       "      <th>6</th>\n",
       "      <td>Radiohead</td>\n",
       "      <td>alternative rock</td>\n",
       "    </tr>\n",
       "    <tr>\n",
       "      <th>12</th>\n",
       "      <td>Radiohead</td>\n",
       "      <td>britpop</td>\n",
       "    </tr>\n",
       "    <tr>\n",
       "      <th>13</th>\n",
       "      <td>Radiohead</td>\n",
       "      <td>indie rock</td>\n",
       "    </tr>\n",
       "    <tr>\n",
       "      <th>16</th>\n",
       "      <td>Radiohead</td>\n",
       "      <td>Progressive rock</td>\n",
       "    </tr>\n",
       "    <tr>\n",
       "      <th>20</th>\n",
       "      <td>Radiohead</td>\n",
       "      <td>Experimental Rock</td>\n",
       "    </tr>\n",
       "    <tr>\n",
       "      <th>21</th>\n",
       "      <td>Radiohead</td>\n",
       "      <td>post-rock</td>\n",
       "    </tr>\n",
       "    <tr>\n",
       "      <th>34</th>\n",
       "      <td>Radiohead</td>\n",
       "      <td>chillout</td>\n",
       "    </tr>\n",
       "    <tr>\n",
       "      <th>37</th>\n",
       "      <td>Radiohead</td>\n",
       "      <td>indie pop</td>\n",
       "    </tr>\n",
       "    <tr>\n",
       "      <th>38</th>\n",
       "      <td>Radiohead</td>\n",
       "      <td>trip-hop</td>\n",
       "    </tr>\n",
       "    <tr>\n",
       "      <th>40</th>\n",
       "      <td>Radiohead</td>\n",
       "      <td>classic rock</td>\n",
       "    </tr>\n",
       "    <tr>\n",
       "      <th>42</th>\n",
       "      <td>Radiohead</td>\n",
       "      <td>idm</td>\n",
       "    </tr>\n",
       "  </tbody>\n",
       "</table>\n",
       "</div>"
      ],
      "text/plain": [
       "       artist               tags\n",
       "6   Radiohead   alternative rock\n",
       "12  Radiohead            britpop\n",
       "13  Radiohead         indie rock\n",
       "16  Radiohead   Progressive rock\n",
       "20  Radiohead  Experimental Rock\n",
       "21  Radiohead          post-rock\n",
       "34  Radiohead           chillout\n",
       "37  Radiohead          indie pop\n",
       "38  Radiohead           trip-hop\n",
       "40  Radiohead       classic rock\n",
       "42  Radiohead                idm"
      ]
     },
     "execution_count": 513,
     "metadata": {},
     "output_type": "execute_result"
    }
   ],
   "source": [
    "df[(df['artist']=='Radiohead') & (df['tag_category']=='genre')][['artist', 'tags']]"
   ]
  },
  {
   "cell_type": "markdown",
   "metadata": {},
   "source": [
    "They might have a few songs that can be understood as chillout, but this is by no means their genre. So as to avoid having Radiohead as the most listened chillout artist, we will select only the <b>top 3 genres per artist</b>.\n",
    "<br>\n",
    "<br>\n",
    "I'm not sure how lastfm ranks them, but they are certainly ranked by relevance (probably by the number of users that set each tag to an artist)\n",
    "\n"
   ]
  },
  {
   "cell_type": "code",
   "execution_count": 514,
   "metadata": {},
   "outputs": [
    {
     "data": {
      "text/html": [
       "<div>\n",
       "<style scoped>\n",
       "    .dataframe tbody tr th:only-of-type {\n",
       "        vertical-align: middle;\n",
       "    }\n",
       "\n",
       "    .dataframe tbody tr th {\n",
       "        vertical-align: top;\n",
       "    }\n",
       "\n",
       "    .dataframe thead th {\n",
       "        text-align: right;\n",
       "    }\n",
       "</style>\n",
       "<table border=\"1\" class=\"dataframe\">\n",
       "  <thead>\n",
       "    <tr style=\"text-align: right;\">\n",
       "      <th></th>\n",
       "      <th>artist</th>\n",
       "      <th>tags</th>\n",
       "    </tr>\n",
       "  </thead>\n",
       "  <tbody>\n",
       "    <tr>\n",
       "      <th>6</th>\n",
       "      <td>Radiohead</td>\n",
       "      <td>alternative rock</td>\n",
       "    </tr>\n",
       "    <tr>\n",
       "      <th>12</th>\n",
       "      <td>Radiohead</td>\n",
       "      <td>britpop</td>\n",
       "    </tr>\n",
       "    <tr>\n",
       "      <th>13</th>\n",
       "      <td>Radiohead</td>\n",
       "      <td>indie rock</td>\n",
       "    </tr>\n",
       "  </tbody>\n",
       "</table>\n",
       "</div>"
      ],
      "text/plain": [
       "       artist              tags\n",
       "6   Radiohead  alternative rock\n",
       "12  Radiohead           britpop\n",
       "13  Radiohead        indie rock"
      ]
     },
     "execution_count": 514,
     "metadata": {},
     "output_type": "execute_result"
    }
   ],
   "source": [
    "df_genres = df[df['tag_category'] == 'genre']\n",
    "df['tag_order'] = df_genres.groupby('artist').cumcount() + 1\n",
    "df['tag_order'] = df['tag_order'].fillna(1).astype(int)\n",
    "df = df[df['tag_order'] < 4]\n",
    "df.drop(columns='tag_order', inplace=True)\n",
    "\n",
    "df[(df['artist']=='Radiohead') & (df['tag_category']=='genre')][['artist', 'tags']]\n"
   ]
  },
  {
   "cell_type": "markdown",
   "metadata": {},
   "source": [
    "Way better. <br>\n",
    "\n",
    "### But we need to be wary...<br> \n",
    "...of duplicating values when aggregating. <br>\n",
    "\n",
    "Each artist appears in more than one row:"
   ]
  },
  {
   "cell_type": "code",
   "execution_count": 515,
   "metadata": {},
   "outputs": [
    {
     "data": {
      "text/html": [
       "<div>\n",
       "<style scoped>\n",
       "    .dataframe tbody tr th:only-of-type {\n",
       "        vertical-align: middle;\n",
       "    }\n",
       "\n",
       "    .dataframe tbody tr th {\n",
       "        vertical-align: top;\n",
       "    }\n",
       "\n",
       "    .dataframe thead th {\n",
       "        text-align: right;\n",
       "    }\n",
       "</style>\n",
       "<table border=\"1\" class=\"dataframe\">\n",
       "  <thead>\n",
       "    <tr style=\"text-align: right;\">\n",
       "      <th></th>\n",
       "      <th>artist</th>\n",
       "      <th>country</th>\n",
       "      <th>tag_category</th>\n",
       "      <th>tags</th>\n",
       "      <th>listeners</th>\n",
       "      <th>scrobbles</th>\n",
       "    </tr>\n",
       "  </thead>\n",
       "  <tbody>\n",
       "    <tr>\n",
       "      <th>0</th>\n",
       "      <td>The Beatles</td>\n",
       "      <td>United Kingdom</td>\n",
       "      <td>genre</td>\n",
       "      <td>classic rock</td>\n",
       "      <td>3674017</td>\n",
       "      <td>517126254</td>\n",
       "    </tr>\n",
       "    <tr>\n",
       "      <th>3</th>\n",
       "      <td>The Beatles</td>\n",
       "      <td>United Kingdom</td>\n",
       "      <td>decade</td>\n",
       "      <td>60s</td>\n",
       "      <td>3674017</td>\n",
       "      <td>517126254</td>\n",
       "    </tr>\n",
       "  </tbody>\n",
       "</table>\n",
       "</div>"
      ],
      "text/plain": [
       "        artist         country tag_category          tags  listeners  \\\n",
       "0  The Beatles  United Kingdom        genre  classic rock    3674017   \n",
       "3  The Beatles  United Kingdom       decade           60s    3674017   \n",
       "\n",
       "   scrobbles  \n",
       "0  517126254  \n",
       "3  517126254  "
      ]
     },
     "execution_count": 515,
     "metadata": {},
     "output_type": "execute_result"
    }
   ],
   "source": [
    "df.head(2)"
   ]
  },
  {
   "cell_type": "markdown",
   "metadata": {},
   "source": [
    "So if we sum over an artist we end up multiplying its listeners and play count by the number of rows that it appears."
   ]
  },
  {
   "cell_type": "code",
   "execution_count": 516,
   "metadata": {},
   "outputs": [
    {
     "data": {
      "text/plain": [
       "listeners    7.348034e+06\n",
       "scrobbles    1.034253e+09\n",
       "Name: The Beatles, dtype: float64"
      ]
     },
     "execution_count": 516,
     "metadata": {},
     "output_type": "execute_result"
    }
   ],
   "source": [
    "df.groupby('artist').sum().loc['The Beatles']"
   ]
  },
  {
   "cell_type": "markdown",
   "metadata": {},
   "source": [
    "### We can handle that in Tableau... <br>\n",
    "... by using aggregations such as \"MAX\". But that will require <b>Tableau to calculate it over and over again</b>.<br>\n",
    "We can lend a hand to Tableau by creating boolean columns identifying unique rows.<br> <br>\n",
    "We have increased the number of rows in our dataframe two times:\n",
    "\n",
    "- When we expanded the <b>tags</b>\n",
    "- and when we expanded the <b>countries</b>  <br>\n",
    "\n",
    "We will start by creating a row count for each <b>artist</b> and each combination of <b>artist-tag</b> and <b>artist-country</b>"
   ]
  },
  {
   "cell_type": "code",
   "execution_count": 517,
   "metadata": {},
   "outputs": [
    {
     "data": {
      "text/html": [
       "<div>\n",
       "<style scoped>\n",
       "    .dataframe tbody tr th:only-of-type {\n",
       "        vertical-align: middle;\n",
       "    }\n",
       "\n",
       "    .dataframe tbody tr th {\n",
       "        vertical-align: top;\n",
       "    }\n",
       "\n",
       "    .dataframe thead th {\n",
       "        text-align: right;\n",
       "    }\n",
       "</style>\n",
       "<table border=\"1\" class=\"dataframe\">\n",
       "  <thead>\n",
       "    <tr style=\"text-align: right;\">\n",
       "      <th></th>\n",
       "      <th>artist</th>\n",
       "      <th>country</th>\n",
       "      <th>tag_category</th>\n",
       "      <th>tags</th>\n",
       "      <th>listeners</th>\n",
       "      <th>scrobbles</th>\n",
       "      <th>artist_unique</th>\n",
       "      <th>tags_artist_unique</th>\n",
       "      <th>country_artist_unique</th>\n",
       "    </tr>\n",
       "  </thead>\n",
       "  <tbody>\n",
       "    <tr>\n",
       "      <th>0</th>\n",
       "      <td>The Beatles</td>\n",
       "      <td>United Kingdom</td>\n",
       "      <td>genre</td>\n",
       "      <td>classic rock</td>\n",
       "      <td>3674017</td>\n",
       "      <td>517126254</td>\n",
       "      <td>1</td>\n",
       "      <td>1</td>\n",
       "      <td>1</td>\n",
       "    </tr>\n",
       "    <tr>\n",
       "      <th>3</th>\n",
       "      <td>The Beatles</td>\n",
       "      <td>United Kingdom</td>\n",
       "      <td>decade</td>\n",
       "      <td>60s</td>\n",
       "      <td>3674017</td>\n",
       "      <td>517126254</td>\n",
       "      <td>2</td>\n",
       "      <td>1</td>\n",
       "      <td>2</td>\n",
       "    </tr>\n",
       "    <tr>\n",
       "      <th>6</th>\n",
       "      <td>Radiohead</td>\n",
       "      <td>United Kingdom</td>\n",
       "      <td>genre</td>\n",
       "      <td>alternative rock</td>\n",
       "      <td>4732528</td>\n",
       "      <td>499548797</td>\n",
       "      <td>1</td>\n",
       "      <td>1</td>\n",
       "      <td>1</td>\n",
       "    </tr>\n",
       "    <tr>\n",
       "      <th>12</th>\n",
       "      <td>Radiohead</td>\n",
       "      <td>United Kingdom</td>\n",
       "      <td>genre</td>\n",
       "      <td>britpop</td>\n",
       "      <td>4732528</td>\n",
       "      <td>499548797</td>\n",
       "      <td>2</td>\n",
       "      <td>1</td>\n",
       "      <td>2</td>\n",
       "    </tr>\n",
       "    <tr>\n",
       "      <th>13</th>\n",
       "      <td>Radiohead</td>\n",
       "      <td>United Kingdom</td>\n",
       "      <td>genre</td>\n",
       "      <td>indie rock</td>\n",
       "      <td>4732528</td>\n",
       "      <td>499548797</td>\n",
       "      <td>3</td>\n",
       "      <td>1</td>\n",
       "      <td>3</td>\n",
       "    </tr>\n",
       "  </tbody>\n",
       "</table>\n",
       "</div>"
      ],
      "text/plain": [
       "         artist         country tag_category              tags  listeners  \\\n",
       "0   The Beatles  United Kingdom        genre      classic rock    3674017   \n",
       "3   The Beatles  United Kingdom       decade               60s    3674017   \n",
       "6     Radiohead  United Kingdom        genre  alternative rock    4732528   \n",
       "12    Radiohead  United Kingdom        genre           britpop    4732528   \n",
       "13    Radiohead  United Kingdom        genre        indie rock    4732528   \n",
       "\n",
       "    scrobbles  artist_unique  tags_artist_unique  country_artist_unique  \n",
       "0   517126254              1                   1                      1  \n",
       "3   517126254              2                   1                      2  \n",
       "6   499548797              1                   1                      1  \n",
       "12  499548797              2                   1                      2  \n",
       "13  499548797              3                   1                      3  "
      ]
     },
     "execution_count": 517,
     "metadata": {},
     "output_type": "execute_result"
    }
   ],
   "source": [
    "df['artist_unique'] =  df.groupby(['artist']).cumcount() + 1\n",
    "df['tags_artist_unique'] = df.groupby(['artist', 'tags']).cumcount() + 1\n",
    "df['country_artist_unique'] = df.groupby(['artist', 'country']).cumcount() + 1\n",
    "df.head()"
   ]
  },
  {
   "cell_type": "markdown",
   "metadata": {},
   "source": [
    "And then flagging as <b>True</b> where the value is one"
   ]
  },
  {
   "cell_type": "code",
   "execution_count": 518,
   "metadata": {},
   "outputs": [
    {
     "data": {
      "text/html": [
       "<div>\n",
       "<style scoped>\n",
       "    .dataframe tbody tr th:only-of-type {\n",
       "        vertical-align: middle;\n",
       "    }\n",
       "\n",
       "    .dataframe tbody tr th {\n",
       "        vertical-align: top;\n",
       "    }\n",
       "\n",
       "    .dataframe thead th {\n",
       "        text-align: right;\n",
       "    }\n",
       "</style>\n",
       "<table border=\"1\" class=\"dataframe\">\n",
       "  <thead>\n",
       "    <tr style=\"text-align: right;\">\n",
       "      <th></th>\n",
       "      <th>artist</th>\n",
       "      <th>country</th>\n",
       "      <th>tag_category</th>\n",
       "      <th>tags</th>\n",
       "      <th>listeners</th>\n",
       "      <th>scrobbles</th>\n",
       "      <th>artist_unique</th>\n",
       "      <th>tags_artist_unique</th>\n",
       "      <th>country_artist_unique</th>\n",
       "    </tr>\n",
       "  </thead>\n",
       "  <tbody>\n",
       "    <tr>\n",
       "      <th>0</th>\n",
       "      <td>The Beatles</td>\n",
       "      <td>United Kingdom</td>\n",
       "      <td>genre</td>\n",
       "      <td>classic rock</td>\n",
       "      <td>3674017</td>\n",
       "      <td>517126254</td>\n",
       "      <td>True</td>\n",
       "      <td>True</td>\n",
       "      <td>True</td>\n",
       "    </tr>\n",
       "    <tr>\n",
       "      <th>3</th>\n",
       "      <td>The Beatles</td>\n",
       "      <td>United Kingdom</td>\n",
       "      <td>decade</td>\n",
       "      <td>60s</td>\n",
       "      <td>3674017</td>\n",
       "      <td>517126254</td>\n",
       "      <td>False</td>\n",
       "      <td>True</td>\n",
       "      <td>False</td>\n",
       "    </tr>\n",
       "    <tr>\n",
       "      <th>6</th>\n",
       "      <td>Radiohead</td>\n",
       "      <td>United Kingdom</td>\n",
       "      <td>genre</td>\n",
       "      <td>alternative rock</td>\n",
       "      <td>4732528</td>\n",
       "      <td>499548797</td>\n",
       "      <td>True</td>\n",
       "      <td>True</td>\n",
       "      <td>True</td>\n",
       "    </tr>\n",
       "    <tr>\n",
       "      <th>12</th>\n",
       "      <td>Radiohead</td>\n",
       "      <td>United Kingdom</td>\n",
       "      <td>genre</td>\n",
       "      <td>britpop</td>\n",
       "      <td>4732528</td>\n",
       "      <td>499548797</td>\n",
       "      <td>False</td>\n",
       "      <td>True</td>\n",
       "      <td>False</td>\n",
       "    </tr>\n",
       "    <tr>\n",
       "      <th>13</th>\n",
       "      <td>Radiohead</td>\n",
       "      <td>United Kingdom</td>\n",
       "      <td>genre</td>\n",
       "      <td>indie rock</td>\n",
       "      <td>4732528</td>\n",
       "      <td>499548797</td>\n",
       "      <td>False</td>\n",
       "      <td>True</td>\n",
       "      <td>False</td>\n",
       "    </tr>\n",
       "  </tbody>\n",
       "</table>\n",
       "</div>"
      ],
      "text/plain": [
       "         artist         country tag_category              tags  listeners  \\\n",
       "0   The Beatles  United Kingdom        genre      classic rock    3674017   \n",
       "3   The Beatles  United Kingdom       decade               60s    3674017   \n",
       "6     Radiohead  United Kingdom        genre  alternative rock    4732528   \n",
       "12    Radiohead  United Kingdom        genre           britpop    4732528   \n",
       "13    Radiohead  United Kingdom        genre        indie rock    4732528   \n",
       "\n",
       "    scrobbles  artist_unique  tags_artist_unique  country_artist_unique  \n",
       "0   517126254           True                True                   True  \n",
       "3   517126254          False                True                  False  \n",
       "6   499548797           True                True                   True  \n",
       "12  499548797          False                True                  False  \n",
       "13  499548797          False                True                  False  "
      ]
     },
     "execution_count": 518,
     "metadata": {},
     "output_type": "execute_result"
    }
   ],
   "source": [
    "cols_to_bool = ['artist_unique', 'tags_artist_unique', 'country_artist_unique']\n",
    "\n",
    "for col in cols_to_bool:\n",
    "    df[col] = df[col].apply(lambda x: x==1)\n",
    "    \n",
    "df.head()"
   ]
  },
  {
   "cell_type": "markdown",
   "metadata": {},
   "source": [
    "### It would be handy to have an artist rank by tag already in place"
   ]
  },
  {
   "cell_type": "code",
   "execution_count": 519,
   "metadata": {},
   "outputs": [
    {
     "data": {
      "text/html": [
       "<div>\n",
       "<style scoped>\n",
       "    .dataframe tbody tr th:only-of-type {\n",
       "        vertical-align: middle;\n",
       "    }\n",
       "\n",
       "    .dataframe tbody tr th {\n",
       "        vertical-align: top;\n",
       "    }\n",
       "\n",
       "    .dataframe thead th {\n",
       "        text-align: right;\n",
       "    }\n",
       "</style>\n",
       "<table border=\"1\" class=\"dataframe\">\n",
       "  <thead>\n",
       "    <tr style=\"text-align: right;\">\n",
       "      <th></th>\n",
       "      <th>artist</th>\n",
       "      <th>scrobbles</th>\n",
       "    </tr>\n",
       "  </thead>\n",
       "  <tbody>\n",
       "    <tr>\n",
       "      <th>5915</th>\n",
       "      <td>Elvis Presley</td>\n",
       "      <td>71070448</td>\n",
       "    </tr>\n",
       "    <tr>\n",
       "      <th>8105</th>\n",
       "      <td>Creedence Clearwater Revival</td>\n",
       "      <td>59206227</td>\n",
       "    </tr>\n",
       "    <tr>\n",
       "      <th>14293</th>\n",
       "      <td>John Lennon</td>\n",
       "      <td>37233044</td>\n",
       "    </tr>\n",
       "    <tr>\n",
       "      <th>36310</th>\n",
       "      <td>Chuck Berry</td>\n",
       "      <td>16860769</td>\n",
       "    </tr>\n",
       "    <tr>\n",
       "      <th>50044</th>\n",
       "      <td>Roy Orbison</td>\n",
       "      <td>12383506</td>\n",
       "    </tr>\n",
       "  </tbody>\n",
       "</table>\n",
       "</div>"
      ],
      "text/plain": [
       "                             artist  scrobbles\n",
       "5915                  Elvis Presley   71070448\n",
       "8105   Creedence Clearwater Revival   59206227\n",
       "14293                   John Lennon   37233044\n",
       "36310                   Chuck Berry   16860769\n",
       "50044                   Roy Orbison   12383506"
      ]
     },
     "execution_count": 519,
     "metadata": {},
     "output_type": "execute_result"
    }
   ],
   "source": [
    "df.sort_values(by=['tags', 'scrobbles'], ascending=False, inplace=True)\n",
    "df['artist_rank_by_tag'] = df.groupby(by=['tags'])['scrobbles'].rank(method='dense', ascending=False).astype(int)\n",
    "\n",
    "# Top 5 artists in rock'n'roll\n",
    "df[df['tags'] == \"rock'n'roll\"][['artist', 'scrobbles']][:5]"
   ]
  },
  {
   "cell_type": "markdown",
   "metadata": {},
   "source": [
    "# That's all\n"
   ]
  },
  {
   "cell_type": "code",
   "execution_count": 520,
   "metadata": {},
   "outputs": [],
   "source": [
    "df['tags'] = df['tags'].str.capitalize() # better keep capitalization consistent\n",
    "df.to_csv('Datasets/lastfm_tags.csv', index=False)"
   ]
  }
 ],
 "metadata": {
  "interpreter": {
   "hash": "929d62977bf2d888c36311be9d0accb34e312f263bdc0e4da1ad618d3be921c5"
  },
  "kernelspec": {
   "display_name": "Python 3.7.9 64-bit ('base': conda)",
   "language": "python",
   "name": "python3"
  },
  "language_info": {
   "codemirror_mode": {
    "name": "ipython",
    "version": 3
   },
   "file_extension": ".py",
   "mimetype": "text/x-python",
   "name": "python",
   "nbconvert_exporter": "python",
   "pygments_lexer": "ipython3",
   "version": "3.7.9"
  },
  "orig_nbformat": 4
 },
 "nbformat": 4,
 "nbformat_minor": 2
}
