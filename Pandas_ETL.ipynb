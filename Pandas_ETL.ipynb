{
 "cells": [
  {
   "cell_type": "markdown",
   "metadata": {},
   "source": [
    "# LastFM Popularity\n",
    "\n",
    "<b>What</b> are the most popular music genres in LastFM? <b>Who</b> are the most popular artists in each genre, and <b>where</b> do they come from? <br>\n",
    "<b>When</b> the music was made? <b>What</b> are their mood?\n",
    "\n",
    "These are the questions that these project makes. We will levarege the [dataset](https://www.kaggle.com/pieca111/music-artists-popularity) made available in Kaggle by [Piotr](https://www.kaggle.com/pieca111) to answer them.\n",
    "\n",
    "### Lets take a look at the dataset."
   ]
  },
  {
   "cell_type": "code",
   "execution_count": 119,
   "metadata": {},
   "outputs": [
    {
     "data": {
      "text/html": [
       "<div>\n",
       "<style scoped>\n",
       "    .dataframe tbody tr th:only-of-type {\n",
       "        vertical-align: middle;\n",
       "    }\n",
       "\n",
       "    .dataframe tbody tr th {\n",
       "        vertical-align: top;\n",
       "    }\n",
       "\n",
       "    .dataframe thead th {\n",
       "        text-align: right;\n",
       "    }\n",
       "</style>\n",
       "<table border=\"1\" class=\"dataframe\">\n",
       "  <thead>\n",
       "    <tr style=\"text-align: right;\">\n",
       "      <th></th>\n",
       "      <th>mbid</th>\n",
       "      <th>artist_mb</th>\n",
       "      <th>artist_lastfm</th>\n",
       "      <th>country_mb</th>\n",
       "      <th>country_lastfm</th>\n",
       "      <th>tags_mb</th>\n",
       "      <th>tags_lastfm</th>\n",
       "      <th>listeners_lastfm</th>\n",
       "      <th>scrobbles_lastfm</th>\n",
       "      <th>ambiguous_artist</th>\n",
       "    </tr>\n",
       "  </thead>\n",
       "  <tbody>\n",
       "    <tr>\n",
       "      <th>0</th>\n",
       "      <td>cc197bad-dc9c-440d-a5b5-d52ba2e14234</td>\n",
       "      <td>Coldplay</td>\n",
       "      <td>Coldplay</td>\n",
       "      <td>United Kingdom</td>\n",
       "      <td>United Kingdom</td>\n",
       "      <td>rock; pop; alternative rock; british; uk; brit...</td>\n",
       "      <td>rock; alternative; britpop; alternative rock; ...</td>\n",
       "      <td>5381567.0</td>\n",
       "      <td>360111850.0</td>\n",
       "      <td>False</td>\n",
       "    </tr>\n",
       "  </tbody>\n",
       "</table>\n",
       "</div>"
      ],
      "text/plain": [
       "                                   mbid artist_mb artist_lastfm  \\\n",
       "0  cc197bad-dc9c-440d-a5b5-d52ba2e14234  Coldplay      Coldplay   \n",
       "\n",
       "       country_mb  country_lastfm  \\\n",
       "0  United Kingdom  United Kingdom   \n",
       "\n",
       "                                             tags_mb  \\\n",
       "0  rock; pop; alternative rock; british; uk; brit...   \n",
       "\n",
       "                                         tags_lastfm  listeners_lastfm  \\\n",
       "0  rock; alternative; britpop; alternative rock; ...         5381567.0   \n",
       "\n",
       "   scrobbles_lastfm  ambiguous_artist  \n",
       "0       360111850.0             False  "
      ]
     },
     "execution_count": 119,
     "metadata": {},
     "output_type": "execute_result"
    }
   ],
   "source": [
    "import pandas as pd\n",
    "\n",
    "df = pd.read_csv(\n",
    "    'Datasets/artists.csv',\n",
    "    dtype=dict(\n",
    "        artist_lastfm=str, \n",
    "        country_lastfm=str, \n",
    "        tags_lastfm=str\n",
    "        )\n",
    "    )\n",
    "\n",
    "df.head(1)"
   ]
  },
  {
   "cell_type": "markdown",
   "metadata": {},
   "source": [
    "To answer the questions we posed at the beginning, we will need:<br>\n",
    "- <b>ambiguous_artist</b> | Sometimes more than one artist may share the same name\n",
    "- <b>artist_lastfm</b> | Artist name in LastFM\n",
    "- <b>country_lastfm</b> | Their countries\n",
    "- <b>tags_lastfm</b> | Their tags\n",
    "- <b>listeners_lastfm</b> | You get the idea.\n",
    "- <b>scrobbles_lastfm</b>\n",
    "\n",
    "\n"
   ]
  },
  {
   "cell_type": "code",
   "execution_count": 120,
   "metadata": {},
   "outputs": [
    {
     "data": {
      "text/html": [
       "<div>\n",
       "<style scoped>\n",
       "    .dataframe tbody tr th:only-of-type {\n",
       "        vertical-align: middle;\n",
       "    }\n",
       "\n",
       "    .dataframe tbody tr th {\n",
       "        vertical-align: top;\n",
       "    }\n",
       "\n",
       "    .dataframe thead th {\n",
       "        text-align: right;\n",
       "    }\n",
       "</style>\n",
       "<table border=\"1\" class=\"dataframe\">\n",
       "  <thead>\n",
       "    <tr style=\"text-align: right;\">\n",
       "      <th></th>\n",
       "      <th>ambiguous_artist</th>\n",
       "      <th>artist_lastfm</th>\n",
       "      <th>country_lastfm</th>\n",
       "      <th>tags_lastfm</th>\n",
       "      <th>listeners_lastfm</th>\n",
       "      <th>scrobbles_lastfm</th>\n",
       "    </tr>\n",
       "  </thead>\n",
       "  <tbody>\n",
       "    <tr>\n",
       "      <th>0</th>\n",
       "      <td>False</td>\n",
       "      <td>Coldplay</td>\n",
       "      <td>United Kingdom</td>\n",
       "      <td>rock; alternative; britpop; alternative rock; ...</td>\n",
       "      <td>5381567.0</td>\n",
       "      <td>360111850.0</td>\n",
       "    </tr>\n",
       "    <tr>\n",
       "      <th>1</th>\n",
       "      <td>False</td>\n",
       "      <td>Radiohead</td>\n",
       "      <td>United Kingdom</td>\n",
       "      <td>alternative; alternative rock; rock; indie; el...</td>\n",
       "      <td>4732528.0</td>\n",
       "      <td>499548797.0</td>\n",
       "    </tr>\n",
       "    <tr>\n",
       "      <th>2</th>\n",
       "      <td>False</td>\n",
       "      <td>Red Hot Chili Peppers</td>\n",
       "      <td>United States</td>\n",
       "      <td>rock; alternative rock; alternative; Funk Rock...</td>\n",
       "      <td>4620835.0</td>\n",
       "      <td>293784041.0</td>\n",
       "    </tr>\n",
       "    <tr>\n",
       "      <th>3</th>\n",
       "      <td>False</td>\n",
       "      <td>Rihanna</td>\n",
       "      <td>Barbados; United States</td>\n",
       "      <td>pop; rnb; female vocalists; dance; Hip-Hop; Ri...</td>\n",
       "      <td>4558193.0</td>\n",
       "      <td>199248986.0</td>\n",
       "    </tr>\n",
       "    <tr>\n",
       "      <th>4</th>\n",
       "      <td>False</td>\n",
       "      <td>Eminem</td>\n",
       "      <td>United States</td>\n",
       "      <td>rap; Hip-Hop; Eminem; hip hop; pop; american; ...</td>\n",
       "      <td>4517997.0</td>\n",
       "      <td>199507511.0</td>\n",
       "    </tr>\n",
       "  </tbody>\n",
       "</table>\n",
       "</div>"
      ],
      "text/plain": [
       "   ambiguous_artist          artist_lastfm           country_lastfm  \\\n",
       "0             False               Coldplay           United Kingdom   \n",
       "1             False              Radiohead           United Kingdom   \n",
       "2             False  Red Hot Chili Peppers            United States   \n",
       "3             False                Rihanna  Barbados; United States   \n",
       "4             False                 Eminem            United States   \n",
       "\n",
       "                                         tags_lastfm  listeners_lastfm  \\\n",
       "0  rock; alternative; britpop; alternative rock; ...         5381567.0   \n",
       "1  alternative; alternative rock; rock; indie; el...         4732528.0   \n",
       "2  rock; alternative rock; alternative; Funk Rock...         4620835.0   \n",
       "3  pop; rnb; female vocalists; dance; Hip-Hop; Ri...         4558193.0   \n",
       "4  rap; Hip-Hop; Eminem; hip hop; pop; american; ...         4517997.0   \n",
       "\n",
       "   scrobbles_lastfm  \n",
       "0       360111850.0  \n",
       "1       499548797.0  \n",
       "2       293784041.0  \n",
       "3       199248986.0  \n",
       "4       199507511.0  "
      ]
     },
     "execution_count": 120,
     "metadata": {},
     "output_type": "execute_result"
    }
   ],
   "source": [
    "df = df[['ambiguous_artist', 'artist_lastfm', 'country_lastfm', 'tags_lastfm', 'listeners_lastfm', 'scrobbles_lastfm']]\n",
    "df.head()"
   ]
  },
  {
   "cell_type": "markdown",
   "metadata": {},
   "source": [
    "Way better.\n",
    "### <b>However</b>"
   ]
  },
  {
   "cell_type": "code",
   "execution_count": 121,
   "metadata": {},
   "outputs": [
    {
     "data": {
      "text/html": [
       "<div>\n",
       "<style scoped>\n",
       "    .dataframe tbody tr th:only-of-type {\n",
       "        vertical-align: middle;\n",
       "    }\n",
       "\n",
       "    .dataframe tbody tr th {\n",
       "        vertical-align: top;\n",
       "    }\n",
       "\n",
       "    .dataframe thead th {\n",
       "        text-align: right;\n",
       "    }\n",
       "</style>\n",
       "<table border=\"1\" class=\"dataframe\">\n",
       "  <thead>\n",
       "    <tr style=\"text-align: right;\">\n",
       "      <th></th>\n",
       "      <th>ambiguous_artist</th>\n",
       "      <th>artist_lastfm</th>\n",
       "      <th>country_lastfm</th>\n",
       "      <th>tags_lastfm</th>\n",
       "      <th>listeners_lastfm</th>\n",
       "      <th>scrobbles_lastfm</th>\n",
       "    </tr>\n",
       "  </thead>\n",
       "  <tbody>\n",
       "    <tr>\n",
       "      <th>1466078</th>\n",
       "      <td>False</td>\n",
       "      <td>NaN</td>\n",
       "      <td>South Korea</td>\n",
       "      <td>NaN</td>\n",
       "      <td>NaN</td>\n",
       "      <td>NaN</td>\n",
       "    </tr>\n",
       "    <tr>\n",
       "      <th>1466079</th>\n",
       "      <td>False</td>\n",
       "      <td>NaN</td>\n",
       "      <td>NaN</td>\n",
       "      <td>NaN</td>\n",
       "      <td>NaN</td>\n",
       "      <td>NaN</td>\n",
       "    </tr>\n",
       "    <tr>\n",
       "      <th>1466080</th>\n",
       "      <td>False</td>\n",
       "      <td>NaN</td>\n",
       "      <td>NaN</td>\n",
       "      <td>NaN</td>\n",
       "      <td>NaN</td>\n",
       "      <td>NaN</td>\n",
       "    </tr>\n",
       "    <tr>\n",
       "      <th>1466081</th>\n",
       "      <td>False</td>\n",
       "      <td>NaN</td>\n",
       "      <td>South Korea</td>\n",
       "      <td>NaN</td>\n",
       "      <td>NaN</td>\n",
       "      <td>NaN</td>\n",
       "    </tr>\n",
       "    <tr>\n",
       "      <th>1466082</th>\n",
       "      <td>False</td>\n",
       "      <td>NaN</td>\n",
       "      <td>South Korea</td>\n",
       "      <td>NaN</td>\n",
       "      <td>NaN</td>\n",
       "      <td>NaN</td>\n",
       "    </tr>\n",
       "  </tbody>\n",
       "</table>\n",
       "</div>"
      ],
      "text/plain": [
       "         ambiguous_artist artist_lastfm country_lastfm tags_lastfm  \\\n",
       "1466078             False           NaN    South Korea         NaN   \n",
       "1466079             False           NaN            NaN         NaN   \n",
       "1466080             False           NaN            NaN         NaN   \n",
       "1466081             False           NaN    South Korea         NaN   \n",
       "1466082             False           NaN    South Korea         NaN   \n",
       "\n",
       "         listeners_lastfm  scrobbles_lastfm  \n",
       "1466078               NaN               NaN  \n",
       "1466079               NaN               NaN  \n",
       "1466080               NaN               NaN  \n",
       "1466081               NaN               NaN  \n",
       "1466082               NaN               NaN  "
      ]
     },
     "execution_count": 121,
     "metadata": {},
     "output_type": "execute_result"
    }
   ],
   "source": [
    "df.tail()"
   ]
  },
  {
   "cell_type": "markdown",
   "metadata": {},
   "source": [
    "Looks like we have our fair share of null values"
   ]
  },
  {
   "cell_type": "code",
   "execution_count": 122,
   "metadata": {},
   "outputs": [
    {
     "data": {
      "image/png": "[encoded data removed]",
      "text/plain": [
       "<Figure size 432x288 with 1 Axes>"
      ]
     },
     "metadata": {
      "needs_background": "light"
     },
     "output_type": "display_data"
    }
   ],
   "source": [
    "null_rate = (df.isna().sum() / len(df)) * 100\n",
    "\n",
    "ax = (\n",
    "    null_rate\n",
    "    .sort_values()\n",
    "    .plot.barh(title='Percentage of null values by column')\n",
    "    )"
   ]
  },
  {
   "cell_type": "markdown",
   "metadata": {},
   "source": [
    "The column with the highest number of null values is country_lastfm, with a <b>null rate of approximately 85%</b>. <br>\n",
    "\n",
    "It might reasonable to assume that the artists with no country filled in their lastfm page should not be among the most popular. Lets drop all null values and check how many plays we lose"
   ]
  },
  {
   "cell_type": "code",
   "execution_count": 123,
   "metadata": {},
   "outputs": [
    {
     "name": "stdout",
     "output_type": "stream",
     "text": [
      "Total scrobbles (plays) before filtering null values:\n",
      "120,324,972,038.0\n",
      "...and after:\n",
      "102,827,413,080.0\n"
     ]
    }
   ],
   "source": [
    "print('Total scrobbles (plays) before filtering null values:')\n",
    "print(f'{df[\"scrobbles_lastfm\"].sum():,}')\n",
    "\n",
    "df.dropna(axis=0, how='any', inplace=True)\n",
    "\n",
    "print('...and after:')\n",
    "print(f'{df[\"scrobbles_lastfm\"].sum():,}')"
   ]
  },
  {
   "cell_type": "markdown",
   "metadata": {},
   "source": [
    "So we are losing less than 20% of the total plays by doing so.<br><br>\n",
    "Now, lets see how much we lose by dropping the ambiguous artists"
   ]
  },
  {
   "cell_type": "code",
   "execution_count": 124,
   "metadata": {},
   "outputs": [
    {
     "name": "stdout",
     "output_type": "stream",
     "text": [
      "Total number of plays: 87,214,810,301.0\n",
      "Total number of unique artists: 171,128\n"
     ]
    }
   ],
   "source": [
    "df.drop(df[df['ambiguous_artist']].index, inplace=True)\n",
    "df.drop(df[df['scrobbles_lastfm'] <= 0].index, inplace=True) # lets drop artists with no plays as well\n",
    "\n",
    "print('Total number of plays:' ,f'{df[\"scrobbles_lastfm\"].sum():,}')\n",
    "print('Total number of unique artists:' ,f'{len(df):,}')"
   ]
  },
  {
   "cell_type": "markdown",
   "metadata": {},
   "source": [
    "So we are set with 3/4 of the original number of plays and with over 170 thousand unique artists. That will do. <br><br>\n",
    "Some standard dataprep:"
   ]
  },
  {
   "cell_type": "code",
   "execution_count": 125,
   "metadata": {},
   "outputs": [
    {
     "data": {
      "text/html": [
       "<div>\n",
       "<style scoped>\n",
       "    .dataframe tbody tr th:only-of-type {\n",
       "        vertical-align: middle;\n",
       "    }\n",
       "\n",
       "    .dataframe tbody tr th {\n",
       "        vertical-align: top;\n",
       "    }\n",
       "\n",
       "    .dataframe thead th {\n",
       "        text-align: right;\n",
       "    }\n",
       "</style>\n",
       "<table border=\"1\" class=\"dataframe\">\n",
       "  <thead>\n",
       "    <tr style=\"text-align: right;\">\n",
       "      <th></th>\n",
       "      <th>artist</th>\n",
       "      <th>country</th>\n",
       "      <th>tags</th>\n",
       "      <th>listeners</th>\n",
       "      <th>scrobbles</th>\n",
       "    </tr>\n",
       "  </thead>\n",
       "  <tbody>\n",
       "    <tr>\n",
       "      <th>17</th>\n",
       "      <td>The Beatles</td>\n",
       "      <td>United Kingdom</td>\n",
       "      <td>classic rock; rock; british; 60s; pop</td>\n",
       "      <td>3674017</td>\n",
       "      <td>517126254</td>\n",
       "    </tr>\n",
       "    <tr>\n",
       "      <th>1</th>\n",
       "      <td>Radiohead</td>\n",
       "      <td>United Kingdom</td>\n",
       "      <td>alternative; alternative rock; rock; indie; el...</td>\n",
       "      <td>4732528</td>\n",
       "      <td>499548797</td>\n",
       "    </tr>\n",
       "    <tr>\n",
       "      <th>0</th>\n",
       "      <td>Coldplay</td>\n",
       "      <td>United Kingdom</td>\n",
       "      <td>rock; alternative; britpop; alternative rock; ...</td>\n",
       "      <td>5381567</td>\n",
       "      <td>360111850</td>\n",
       "    </tr>\n",
       "    <tr>\n",
       "      <th>8</th>\n",
       "      <td>Muse</td>\n",
       "      <td>United Kingdom</td>\n",
       "      <td>alternative rock; rock; alternative; Progressi...</td>\n",
       "      <td>4089612</td>\n",
       "      <td>344838631</td>\n",
       "    </tr>\n",
       "    <tr>\n",
       "      <th>23</th>\n",
       "      <td>Arctic Monkeys</td>\n",
       "      <td>United Kingdom</td>\n",
       "      <td>indie rock; indie; british; rock; alternative;...</td>\n",
       "      <td>3501680</td>\n",
       "      <td>332306552</td>\n",
       "    </tr>\n",
       "  </tbody>\n",
       "</table>\n",
       "</div>"
      ],
      "text/plain": [
       "            artist         country  \\\n",
       "17     The Beatles  United Kingdom   \n",
       "1        Radiohead  United Kingdom   \n",
       "0         Coldplay  United Kingdom   \n",
       "8             Muse  United Kingdom   \n",
       "23  Arctic Monkeys  United Kingdom   \n",
       "\n",
       "                                                 tags  listeners  scrobbles  \n",
       "17              classic rock; rock; british; 60s; pop    3674017  517126254  \n",
       "1   alternative; alternative rock; rock; indie; el...    4732528  499548797  \n",
       "0   rock; alternative; britpop; alternative rock; ...    5381567  360111850  \n",
       "8   alternative rock; rock; alternative; Progressi...    4089612  344838631  \n",
       "23  indie rock; indie; british; rock; alternative;...    3501680  332306552  "
      ]
     },
     "execution_count": 125,
     "metadata": {},
     "output_type": "execute_result"
    }
   ],
   "source": [
    "df.drop(['ambiguous_artist'], axis=1, inplace=True) # We don't need this column anymore\n",
    "df.columns = ['artist', 'country', 'tags','listeners', 'scrobbles'] # If not at the sacrifice of clarity, shorter names = good\n",
    "df[['scrobbles', 'listeners']] = df[['scrobbles', 'listeners']].astype(int) # There are no half listeners (nor half scrobble)\n",
    "df.sort_values(by='scrobbles', ascending=False, inplace=True)\n",
    "\n",
    "df.head()"
   ]
  },
  {
   "cell_type": "markdown",
   "metadata": {},
   "source": [
    "### We could really use these tags, if only they were each in their own row...."
   ]
  },
  {
   "cell_type": "code",
   "execution_count": 126,
   "metadata": {},
   "outputs": [
    {
     "data": {
      "text/html": [
       "<div>\n",
       "<style scoped>\n",
       "    .dataframe tbody tr th:only-of-type {\n",
       "        vertical-align: middle;\n",
       "    }\n",
       "\n",
       "    .dataframe tbody tr th {\n",
       "        vertical-align: top;\n",
       "    }\n",
       "\n",
       "    .dataframe thead th {\n",
       "        text-align: right;\n",
       "    }\n",
       "</style>\n",
       "<table border=\"1\" class=\"dataframe\">\n",
       "  <thead>\n",
       "    <tr style=\"text-align: right;\">\n",
       "      <th></th>\n",
       "      <th>artist</th>\n",
       "      <th>country</th>\n",
       "      <th>tags</th>\n",
       "      <th>listeners</th>\n",
       "      <th>scrobbles</th>\n",
       "    </tr>\n",
       "  </thead>\n",
       "  <tbody>\n",
       "    <tr>\n",
       "      <th>0</th>\n",
       "      <td>The Beatles</td>\n",
       "      <td>United Kingdom</td>\n",
       "      <td>classic rock</td>\n",
       "      <td>3674017</td>\n",
       "      <td>517126254</td>\n",
       "    </tr>\n",
       "    <tr>\n",
       "      <th>1</th>\n",
       "      <td>The Beatles</td>\n",
       "      <td>United Kingdom</td>\n",
       "      <td>rock</td>\n",
       "      <td>3674017</td>\n",
       "      <td>517126254</td>\n",
       "    </tr>\n",
       "    <tr>\n",
       "      <th>2</th>\n",
       "      <td>The Beatles</td>\n",
       "      <td>United Kingdom</td>\n",
       "      <td>british</td>\n",
       "      <td>3674017</td>\n",
       "      <td>517126254</td>\n",
       "    </tr>\n",
       "    <tr>\n",
       "      <th>3</th>\n",
       "      <td>The Beatles</td>\n",
       "      <td>United Kingdom</td>\n",
       "      <td>60s</td>\n",
       "      <td>3674017</td>\n",
       "      <td>517126254</td>\n",
       "    </tr>\n",
       "    <tr>\n",
       "      <th>4</th>\n",
       "      <td>The Beatles</td>\n",
       "      <td>United Kingdom</td>\n",
       "      <td>pop</td>\n",
       "      <td>3674017</td>\n",
       "      <td>517126254</td>\n",
       "    </tr>\n",
       "  </tbody>\n",
       "</table>\n",
       "</div>"
      ],
      "text/plain": [
       "        artist         country          tags  listeners  scrobbles\n",
       "0  The Beatles  United Kingdom  classic rock    3674017  517126254\n",
       "1  The Beatles  United Kingdom          rock    3674017  517126254\n",
       "2  The Beatles  United Kingdom       british    3674017  517126254\n",
       "3  The Beatles  United Kingdom           60s    3674017  517126254\n",
       "4  The Beatles  United Kingdom           pop    3674017  517126254"
      ]
     },
     "execution_count": 126,
     "metadata": {},
     "output_type": "execute_result"
    }
   ],
   "source": [
    "df['tags'] = df['tags'].apply(lambda x: x.split('; '))\n",
    "df['country'] = df['country'].apply(lambda x: x.split('; ')) # Some gorups have members from multiple countries\n",
    "\n",
    "df = df.explode('tags')\n",
    "df = df.explode('country')\n",
    "\n",
    "df.reset_index(inplace=True, drop=True)\n",
    "df.head()"
   ]
  },
  {
   "cell_type": "markdown",
   "metadata": {},
   "source": [
    "### There you go."
   ]
  },
  {
   "cell_type": "code",
   "execution_count": 132,
   "metadata": {},
   "outputs": [
    {
     "name": "stdout",
     "output_type": "stream",
     "text": [
      "323,038\n"
     ]
    }
   ],
   "source": [
    "tags = df.groupby(by='tags').size().sort_values(ascending=False)\n",
    "print(f'{len(tags):,}')"
   ]
  },
  {
   "cell_type": "markdown",
   "metadata": {},
   "source": [
    "We have <b>323,038</b> unique tags."
   ]
  },
  {
   "cell_type": "markdown",
   "metadata": {},
   "source": [
    "<b>Which is quite a lot.</b> <br>\n",
    "<br>\n",
    "We will start off by selecting the <b>top 300 tags</b> in terms of the number of times that they appear. This will give us something more manageable to work with."
   ]
  },
  {
   "cell_type": "code",
   "execution_count": 133,
   "metadata": {},
   "outputs": [
    {
     "name": "stdout",
     "output_type": "stream",
     "text": [
      "Index(['seen live', 'rock', 'electronic', 'pop', 'All', 'indie', 'alternative',\n",
      "       'female vocalists', 'under 2000 listeners', 'experimental', 'american',\n",
      "       'folk', 'metal', 'punk', 'male vocalists', 'electronica', 'ambient',\n",
      "       'spotify', 'USA', 'jazz', 'singer-songwriter', 'instrumental',\n",
      "       'hardcore', '00s', 'dance', 'alternative rock', 'indie rock', 'german',\n",
      "       'japanese', 'british', 'Hip-Hop', 'punk rock', '90s', 'psychedelic',\n",
      "       'electro', 'world', '80s', 'chillout', 'death metal', 'acoustic',\n",
      "       'french', 'black metal', 'rap', 'indie pop', 'female vocalist',\n",
      "       'hard rock', 'hip hop', 'techno', 'heavy metal', 'soul'],\n",
      "      dtype='object', name='tags')\n"
     ]
    }
   ],
   "source": [
    "top_tags = tags[:500].copy()\n",
    "print(top_tags.index[:50])"
   ]
  },
  {
   "cell_type": "code",
   "execution_count": 187,
   "metadata": {},
   "outputs": [],
   "source": [
    "from importlib import reload\n",
    "import tag_flagger\n",
    "reload(tag_flagger)\n",
    "from tag_flagger import tag_flagger_machine"
   ]
  },
  {
   "cell_type": "code",
   "execution_count": 188,
   "metadata": {},
   "outputs": [
    {
     "name": "stdout",
     "output_type": "stream",
     "text": [
      "female vocalists -> decade \n",
      " --------------------        \n",
      " 1 = genre        \n",
      " 2 = mood        \n",
      " 3 = decade        \n",
      " x = exit program        \n",
      " anything else = dump        \n",
      " -------------------- \n",
      " Tag: under 2000 listeners\n",
      "Program terminated.\n"
     ]
    }
   ],
   "source": [
    "test = tag_flagger_machine(top_tags[:10].index)"
   ]
  },
  {
   "cell_type": "code",
   "execution_count": 137,
   "metadata": {},
   "outputs": [
    {
     "data": {
      "text/plain": [
       "Index(['latino', 'Austria', 'singer songwriter', 'poetry', 'death',\n",
       "       'groove metal', 'los angeles', 'the netherlands', 'industrial rock',\n",
       "       'glam rock', 'prog', 'roots', 'gospel', 'powerpop', 'band', 'scotland',\n",
       "       'electro-industrial', 'ska punk', 'Post-Industrial', 'goa', 'download',\n",
       "       'electroacoustic', 'lovely', 'progressive death metal', 'orchestral',\n",
       "       'Portugal', 'humor', 'opera', 'christian rock', 'Black',\n",
       "       'Nu-Bluz Funky Grooves in the E-Lounge', 'instrumental hip-hop', 'deep',\n",
       "       'remix', 'check', 'chill out', 'idol', 'Jazz Rock', 'Contemporary',\n",
       "       'visual kei', 'humour', 'lute', 'chile', 'Scandinavian Girls',\n",
       "       'Nu-metal', 'denmark', 'chanson francaise', '<3', 'cover', 'Grime',\n",
       "       'great', 'dance-pop', '1990s', 'legend', 'soft', 'freepurp1e',\n",
       "       'western classical music', 'synth-pop', 'Officially Shit', 'heavy',\n",
       "       'america', 'want to see live', 'Acid', 'Gangsta Rap', 'balkan',\n",
       "       'krautrock', 'Skinhead', 'best', 'sweet', 'tribal', 'liszaj radio',\n",
       "       'space', 'latin pop', 'Schlager', 'Oriental', 'vocal jazz',\n",
       "       'deathgrind', 'soundscape', 'baroque', 'Suomi', 'flute',\n",
       "       'North American', 'weird', 'Symphonic Black Metal', 'Fuck Off',\n",
       "       'crust punk', 'post-grunge', 'israeli', 'melodic rock', 'ireland',\n",
       "       'Trash', 'producer', 'RAC', 'salsa', 'sex', 'diva', '1', 'k-pop',\n",
       "       'chicago', 'guitar virtuoso'],\n",
       "      dtype='object', name='tags')"
      ]
     },
     "execution_count": 137,
     "metadata": {},
     "output_type": "execute_result"
    }
   ],
   "source": [
    "top_tags[400:500].index"
   ]
  },
  {
   "cell_type": "markdown",
   "metadata": {},
   "source": [
    "### Warning! Arbitraty decisions below\n",
    "I looked through the top 300 tags and manually classified them as one of the following:\n",
    "- Musical genre\n",
    "- Mood\n",
    "- Decade"
   ]
  },
  {
   "cell_type": "code",
   "execution_count": 104,
   "metadata": {},
   "outputs": [],
   "source": [
    "genres = [\n",
    "    'rock', 'hip hop', 'post-punk', 'noise rock', \n",
    "    'Dance', 'hardcore punk',  'indie folk', 'r&b',\n",
    "    'dark ambient', 'folk rock', 'lounge', 'rnb',\n",
    "    'grindcore', 'doom metal', 'Psychedelic Rock',\n",
    "    'post-hardcore', 'electropop', 'dub', 'shoegaze',\n",
    "    'JPop', 'Disco', 'country', 'Brutal Death Metal',\n",
    "    'Melodic Death Metal', 'Drum and bass', 'darkwave',\n",
    "    'screamo', 'pop punk', 'hiphop', 'Power metal',\n",
    "    'contemporary classical', 'dream pop', 'J-rock',\n",
    "    'synth pop', 'Stoner Rock', 'Pop-Rock', 'Garage Rock',\n",
    "    'Grunge', 'Gothic Rock', 'Sludge', 'acid jazz', \n",
    "    'metal', 'punk', 'ambient', 'jazz', 'death metal',\n",
    "    'hardcore', 'alternative rock', 'indie rock',\n",
    "    'Hip-Hop', 'punk rock', 'electro', 'chillout', \n",
    "    'black metal', 'rap', 'indie pop', 'hard rock', \n",
    "    'techno', 'heavy metal', 'soul', 'House', 'new age',\n",
    "    'Progressive rock', 'industrial', 'new wave',\n",
    "    'Classical', 'pop rock', 'Avant-Garde', 'downtempo',\n",
    "    'blues', 'post-rock', 'trance', 'thrash metal', \n",
    "    'classic rock', 'synthpop', 'idm', 'j-pop',\n",
    "    'metalcore', 'reggae', 'minimal', 'Fusion', 'ska',\n",
    "    'trip-hop', 'Progressive metal', 'Lo-Fi',\n",
    "    'Gothic Metal', 'blues rock', 'Experimental Rock',\n",
    "    'glitch', 'melodic metal', 'Post punk', 'garage',\n",
    "    'soft rock', 'britpop', 'breakbeat', 'power pop'\n",
    "]\n",
    "\n",
    "moods = [\n",
    "    'Love', 'beautiful', 'sexy',\n",
    "    'Mellow', 'groove', 'comedy',\n",
    "    'funky', 'ethereal','melancholy', \n",
    "    'melancholic', 'romantic', 'fun',\n",
    "    'relaxing', 'Dreamy'\n",
    "]\n",
    "\n",
    "decade = ['50s', '60s', '70s', '80s', '90s', '00s', '10s']\n"
   ]
  },
  {
   "cell_type": "markdown",
   "metadata": {},
   "source": [
    "Lets keep only the tags that we selected by hand"
   ]
  },
  {
   "cell_type": "code",
   "execution_count": 105,
   "metadata": {},
   "outputs": [],
   "source": [
    "tags_to_keep = genres + moods + decade\n",
    "df.drop(df[~df['tags'].isin(tags_to_keep)].index, axis=0, inplace=True)"
   ]
  },
  {
   "cell_type": "markdown",
   "metadata": {},
   "source": [
    "And flag each tag by their category (i.e. if it is a genre, a mood or a decade) so we can work with them separately"
   ]
  },
  {
   "cell_type": "code",
   "execution_count": 106,
   "metadata": {},
   "outputs": [
    {
     "data": {
      "text/html": [
       "<div>\n",
       "<style scoped>\n",
       "    .dataframe tbody tr th:only-of-type {\n",
       "        vertical-align: middle;\n",
       "    }\n",
       "\n",
       "    .dataframe tbody tr th {\n",
       "        vertical-align: top;\n",
       "    }\n",
       "\n",
       "    .dataframe thead th {\n",
       "        text-align: right;\n",
       "    }\n",
       "</style>\n",
       "<table border=\"1\" class=\"dataframe\">\n",
       "  <thead>\n",
       "    <tr style=\"text-align: right;\">\n",
       "      <th></th>\n",
       "      <th>artist</th>\n",
       "      <th>country</th>\n",
       "      <th>tags</th>\n",
       "      <th>listeners</th>\n",
       "      <th>scrobbles</th>\n",
       "      <th>tag_category</th>\n",
       "    </tr>\n",
       "  </thead>\n",
       "  <tbody>\n",
       "    <tr>\n",
       "      <th>0</th>\n",
       "      <td>The Beatles</td>\n",
       "      <td>United Kingdom</td>\n",
       "      <td>classic rock</td>\n",
       "      <td>3674017</td>\n",
       "      <td>517126254</td>\n",
       "      <td>genre</td>\n",
       "    </tr>\n",
       "    <tr>\n",
       "      <th>1</th>\n",
       "      <td>The Beatles</td>\n",
       "      <td>United Kingdom</td>\n",
       "      <td>rock</td>\n",
       "      <td>3674017</td>\n",
       "      <td>517126254</td>\n",
       "      <td>genre</td>\n",
       "    </tr>\n",
       "    <tr>\n",
       "      <th>3</th>\n",
       "      <td>The Beatles</td>\n",
       "      <td>United Kingdom</td>\n",
       "      <td>60s</td>\n",
       "      <td>3674017</td>\n",
       "      <td>517126254</td>\n",
       "      <td>decade</td>\n",
       "    </tr>\n",
       "    <tr>\n",
       "      <th>6</th>\n",
       "      <td>Radiohead</td>\n",
       "      <td>United Kingdom</td>\n",
       "      <td>alternative rock</td>\n",
       "      <td>4732528</td>\n",
       "      <td>499548797</td>\n",
       "      <td>genre</td>\n",
       "    </tr>\n",
       "    <tr>\n",
       "      <th>7</th>\n",
       "      <td>Radiohead</td>\n",
       "      <td>United Kingdom</td>\n",
       "      <td>rock</td>\n",
       "      <td>4732528</td>\n",
       "      <td>499548797</td>\n",
       "      <td>genre</td>\n",
       "    </tr>\n",
       "  </tbody>\n",
       "</table>\n",
       "</div>"
      ],
      "text/plain": [
       "        artist         country              tags  listeners  scrobbles  \\\n",
       "0  The Beatles  United Kingdom      classic rock    3674017  517126254   \n",
       "1  The Beatles  United Kingdom              rock    3674017  517126254   \n",
       "3  The Beatles  United Kingdom               60s    3674017  517126254   \n",
       "6    Radiohead  United Kingdom  alternative rock    4732528  499548797   \n",
       "7    Radiohead  United Kingdom              rock    4732528  499548797   \n",
       "\n",
       "  tag_category  \n",
       "0        genre  \n",
       "1        genre  \n",
       "3       decade  \n",
       "6        genre  \n",
       "7        genre  "
      ]
     },
     "execution_count": 106,
     "metadata": {},
     "output_type": "execute_result"
    }
   ],
   "source": [
    "tags = [genres, moods, decade]\n",
    "categories = ['genre', 'mood', 'decade']\n",
    "tags_categories = dict()\n",
    "\n",
    "for tag_group, category in zip(tags, categories):\n",
    "    for tag in tag_group:\n",
    "        tags_categories[tag] = category\n",
    "\n",
    "df['tag_category'] = df['tags'].map(tags_categories)\n",
    "df.head()"
   ]
  },
  {
   "cell_type": "markdown",
   "metadata": {},
   "source": [
    "Some tags can be written in more than one way, such as melancholic and melancholy. Lets create a mapping between them and standarize our tags."
   ]
  },
  {
   "cell_type": "code",
   "execution_count": 107,
   "metadata": {},
   "outputs": [],
   "source": [
    "duplicate_tag_mapping = {\n",
    "    'hip hop': 'Hip-Hop',\n",
    "    'hiphop': 'Hip-Hop',\n",
    "    'JPop': 'j-pop',\n",
    "    'pop rock': 'Pop-Rock',\n",
    "    'r&b': 'rnb',\n",
    "    'synth pop': 'synthpop',\n",
    "    'melancholic': 'melancholy'\n",
    "}\n",
    "\n",
    "df['tags'] = (df['tags'].map(duplicate_tag_mapping).fillna(df['tags']))\n",
    "df.drop_duplicates(inplace=True)\n"
   ]
  },
  {
   "cell_type": "markdown",
   "metadata": {},
   "source": [
    "### We need to be wary...<br> \n",
    "...of duplicating values when aggregating. <br>\n",
    "\n",
    "Each artist appears in more than one row:"
   ]
  },
  {
   "cell_type": "code",
   "execution_count": 108,
   "metadata": {},
   "outputs": [
    {
     "data": {
      "text/html": [
       "<div>\n",
       "<style scoped>\n",
       "    .dataframe tbody tr th:only-of-type {\n",
       "        vertical-align: middle;\n",
       "    }\n",
       "\n",
       "    .dataframe tbody tr th {\n",
       "        vertical-align: top;\n",
       "    }\n",
       "\n",
       "    .dataframe thead th {\n",
       "        text-align: right;\n",
       "    }\n",
       "</style>\n",
       "<table border=\"1\" class=\"dataframe\">\n",
       "  <thead>\n",
       "    <tr style=\"text-align: right;\">\n",
       "      <th></th>\n",
       "      <th>artist</th>\n",
       "      <th>country</th>\n",
       "      <th>tags</th>\n",
       "      <th>listeners</th>\n",
       "      <th>scrobbles</th>\n",
       "      <th>tag_category</th>\n",
       "    </tr>\n",
       "  </thead>\n",
       "  <tbody>\n",
       "    <tr>\n",
       "      <th>0</th>\n",
       "      <td>The Beatles</td>\n",
       "      <td>United Kingdom</td>\n",
       "      <td>classic rock</td>\n",
       "      <td>3674017</td>\n",
       "      <td>517126254</td>\n",
       "      <td>genre</td>\n",
       "    </tr>\n",
       "    <tr>\n",
       "      <th>1</th>\n",
       "      <td>The Beatles</td>\n",
       "      <td>United Kingdom</td>\n",
       "      <td>rock</td>\n",
       "      <td>3674017</td>\n",
       "      <td>517126254</td>\n",
       "      <td>genre</td>\n",
       "    </tr>\n",
       "  </tbody>\n",
       "</table>\n",
       "</div>"
      ],
      "text/plain": [
       "        artist         country          tags  listeners  scrobbles  \\\n",
       "0  The Beatles  United Kingdom  classic rock    3674017  517126254   \n",
       "1  The Beatles  United Kingdom          rock    3674017  517126254   \n",
       "\n",
       "  tag_category  \n",
       "0        genre  \n",
       "1        genre  "
      ]
     },
     "execution_count": 108,
     "metadata": {},
     "output_type": "execute_result"
    }
   ],
   "source": [
    "df.head(2)"
   ]
  },
  {
   "cell_type": "markdown",
   "metadata": {},
   "source": [
    "So if we sum over an artist we end up multiplying its listeners and play count by the number of rows that it appears."
   ]
  },
  {
   "cell_type": "code",
   "execution_count": 109,
   "metadata": {},
   "outputs": [
    {
     "data": {
      "text/plain": [
       "listeners    1.102205e+07\n",
       "scrobbles    1.551379e+09\n",
       "Name: The Beatles, dtype: float64"
      ]
     },
     "execution_count": 109,
     "metadata": {},
     "output_type": "execute_result"
    }
   ],
   "source": [
    "df.groupby('artist').sum().loc['The Beatles']"
   ]
  },
  {
   "cell_type": "markdown",
   "metadata": {},
   "source": [
    "### We can handle that in Tableau... <br>\n",
    "... by using aggregations such as \"MAX\". But that will require <b>Tableau to calculate it over and over again</b>.<br>\n",
    "We can lend a hand to Tableau by creating boolean columns identifying unique rows.<br> <br>\n",
    "We have increased the number of rows in our dataframe two times:\n",
    "\n",
    "- When we expanded the <b>tags</b>\n",
    "- and when we expanded the <b>countries</b>  <br>\n",
    "\n",
    "We will start by creating a row count for each <b>artist</b> and each combination of <b>artist-tag</b> and <b>artist-country</b>"
   ]
  },
  {
   "cell_type": "code",
   "execution_count": 110,
   "metadata": {},
   "outputs": [
    {
     "data": {
      "text/html": [
       "<div>\n",
       "<style scoped>\n",
       "    .dataframe tbody tr th:only-of-type {\n",
       "        vertical-align: middle;\n",
       "    }\n",
       "\n",
       "    .dataframe tbody tr th {\n",
       "        vertical-align: top;\n",
       "    }\n",
       "\n",
       "    .dataframe thead th {\n",
       "        text-align: right;\n",
       "    }\n",
       "</style>\n",
       "<table border=\"1\" class=\"dataframe\">\n",
       "  <thead>\n",
       "    <tr style=\"text-align: right;\">\n",
       "      <th></th>\n",
       "      <th>artist</th>\n",
       "      <th>country</th>\n",
       "      <th>tags</th>\n",
       "      <th>listeners</th>\n",
       "      <th>scrobbles</th>\n",
       "      <th>tag_category</th>\n",
       "      <th>artist_unique</th>\n",
       "      <th>tags_artist_unique</th>\n",
       "      <th>country_artist_unique</th>\n",
       "    </tr>\n",
       "  </thead>\n",
       "  <tbody>\n",
       "    <tr>\n",
       "      <th>0</th>\n",
       "      <td>The Beatles</td>\n",
       "      <td>United Kingdom</td>\n",
       "      <td>classic rock</td>\n",
       "      <td>3674017</td>\n",
       "      <td>517126254</td>\n",
       "      <td>genre</td>\n",
       "      <td>1</td>\n",
       "      <td>1</td>\n",
       "      <td>1</td>\n",
       "    </tr>\n",
       "    <tr>\n",
       "      <th>1</th>\n",
       "      <td>The Beatles</td>\n",
       "      <td>United Kingdom</td>\n",
       "      <td>rock</td>\n",
       "      <td>3674017</td>\n",
       "      <td>517126254</td>\n",
       "      <td>genre</td>\n",
       "      <td>2</td>\n",
       "      <td>1</td>\n",
       "      <td>2</td>\n",
       "    </tr>\n",
       "    <tr>\n",
       "      <th>3</th>\n",
       "      <td>The Beatles</td>\n",
       "      <td>United Kingdom</td>\n",
       "      <td>60s</td>\n",
       "      <td>3674017</td>\n",
       "      <td>517126254</td>\n",
       "      <td>decade</td>\n",
       "      <td>3</td>\n",
       "      <td>1</td>\n",
       "      <td>3</td>\n",
       "    </tr>\n",
       "    <tr>\n",
       "      <th>6</th>\n",
       "      <td>Radiohead</td>\n",
       "      <td>United Kingdom</td>\n",
       "      <td>alternative rock</td>\n",
       "      <td>4732528</td>\n",
       "      <td>499548797</td>\n",
       "      <td>genre</td>\n",
       "      <td>1</td>\n",
       "      <td>1</td>\n",
       "      <td>1</td>\n",
       "    </tr>\n",
       "    <tr>\n",
       "      <th>7</th>\n",
       "      <td>Radiohead</td>\n",
       "      <td>United Kingdom</td>\n",
       "      <td>rock</td>\n",
       "      <td>4732528</td>\n",
       "      <td>499548797</td>\n",
       "      <td>genre</td>\n",
       "      <td>2</td>\n",
       "      <td>1</td>\n",
       "      <td>2</td>\n",
       "    </tr>\n",
       "  </tbody>\n",
       "</table>\n",
       "</div>"
      ],
      "text/plain": [
       "        artist         country              tags  listeners  scrobbles  \\\n",
       "0  The Beatles  United Kingdom      classic rock    3674017  517126254   \n",
       "1  The Beatles  United Kingdom              rock    3674017  517126254   \n",
       "3  The Beatles  United Kingdom               60s    3674017  517126254   \n",
       "6    Radiohead  United Kingdom  alternative rock    4732528  499548797   \n",
       "7    Radiohead  United Kingdom              rock    4732528  499548797   \n",
       "\n",
       "  tag_category  artist_unique  tags_artist_unique  country_artist_unique  \n",
       "0        genre              1                   1                      1  \n",
       "1        genre              2                   1                      2  \n",
       "3       decade              3                   1                      3  \n",
       "6        genre              1                   1                      1  \n",
       "7        genre              2                   1                      2  "
      ]
     },
     "execution_count": 110,
     "metadata": {},
     "output_type": "execute_result"
    }
   ],
   "source": [
    "df['artist_unique'] =  df.groupby(['artist']).cumcount() + 1\n",
    "df['tags_artist_unique'] = df.groupby(['artist', 'tags']).cumcount() + 1\n",
    "df['country_artist_unique'] = df.groupby(['artist', 'country']).cumcount() + 1\n",
    "df.head()"
   ]
  },
  {
   "cell_type": "markdown",
   "metadata": {},
   "source": [
    "And then flagging as <b>True</b> where the value is one"
   ]
  },
  {
   "cell_type": "code",
   "execution_count": 111,
   "metadata": {},
   "outputs": [
    {
     "data": {
      "text/html": [
       "<div>\n",
       "<style scoped>\n",
       "    .dataframe tbody tr th:only-of-type {\n",
       "        vertical-align: middle;\n",
       "    }\n",
       "\n",
       "    .dataframe tbody tr th {\n",
       "        vertical-align: top;\n",
       "    }\n",
       "\n",
       "    .dataframe thead th {\n",
       "        text-align: right;\n",
       "    }\n",
       "</style>\n",
       "<table border=\"1\" class=\"dataframe\">\n",
       "  <thead>\n",
       "    <tr style=\"text-align: right;\">\n",
       "      <th></th>\n",
       "      <th>artist</th>\n",
       "      <th>country</th>\n",
       "      <th>tags</th>\n",
       "      <th>listeners</th>\n",
       "      <th>scrobbles</th>\n",
       "      <th>tag_category</th>\n",
       "      <th>artist_unique</th>\n",
       "      <th>tags_artist_unique</th>\n",
       "      <th>country_artist_unique</th>\n",
       "    </tr>\n",
       "  </thead>\n",
       "  <tbody>\n",
       "    <tr>\n",
       "      <th>0</th>\n",
       "      <td>The Beatles</td>\n",
       "      <td>United Kingdom</td>\n",
       "      <td>classic rock</td>\n",
       "      <td>3674017</td>\n",
       "      <td>517126254</td>\n",
       "      <td>genre</td>\n",
       "      <td>True</td>\n",
       "      <td>True</td>\n",
       "      <td>True</td>\n",
       "    </tr>\n",
       "    <tr>\n",
       "      <th>1</th>\n",
       "      <td>The Beatles</td>\n",
       "      <td>United Kingdom</td>\n",
       "      <td>rock</td>\n",
       "      <td>3674017</td>\n",
       "      <td>517126254</td>\n",
       "      <td>genre</td>\n",
       "      <td>False</td>\n",
       "      <td>True</td>\n",
       "      <td>False</td>\n",
       "    </tr>\n",
       "    <tr>\n",
       "      <th>3</th>\n",
       "      <td>The Beatles</td>\n",
       "      <td>United Kingdom</td>\n",
       "      <td>60s</td>\n",
       "      <td>3674017</td>\n",
       "      <td>517126254</td>\n",
       "      <td>decade</td>\n",
       "      <td>False</td>\n",
       "      <td>True</td>\n",
       "      <td>False</td>\n",
       "    </tr>\n",
       "    <tr>\n",
       "      <th>6</th>\n",
       "      <td>Radiohead</td>\n",
       "      <td>United Kingdom</td>\n",
       "      <td>alternative rock</td>\n",
       "      <td>4732528</td>\n",
       "      <td>499548797</td>\n",
       "      <td>genre</td>\n",
       "      <td>True</td>\n",
       "      <td>True</td>\n",
       "      <td>True</td>\n",
       "    </tr>\n",
       "    <tr>\n",
       "      <th>7</th>\n",
       "      <td>Radiohead</td>\n",
       "      <td>United Kingdom</td>\n",
       "      <td>rock</td>\n",
       "      <td>4732528</td>\n",
       "      <td>499548797</td>\n",
       "      <td>genre</td>\n",
       "      <td>False</td>\n",
       "      <td>True</td>\n",
       "      <td>False</td>\n",
       "    </tr>\n",
       "  </tbody>\n",
       "</table>\n",
       "</div>"
      ],
      "text/plain": [
       "        artist         country              tags  listeners  scrobbles  \\\n",
       "0  The Beatles  United Kingdom      classic rock    3674017  517126254   \n",
       "1  The Beatles  United Kingdom              rock    3674017  517126254   \n",
       "3  The Beatles  United Kingdom               60s    3674017  517126254   \n",
       "6    Radiohead  United Kingdom  alternative rock    4732528  499548797   \n",
       "7    Radiohead  United Kingdom              rock    4732528  499548797   \n",
       "\n",
       "  tag_category  artist_unique  tags_artist_unique  country_artist_unique  \n",
       "0        genre           True                True                   True  \n",
       "1        genre          False                True                  False  \n",
       "3       decade          False                True                  False  \n",
       "6        genre           True                True                   True  \n",
       "7        genre          False                True                  False  "
      ]
     },
     "execution_count": 111,
     "metadata": {},
     "output_type": "execute_result"
    }
   ],
   "source": [
    "cols_to_bool = ['artist_unique', 'tags_artist_unique', 'country_artist_unique']\n",
    "\n",
    "for col in cols_to_bool:\n",
    "    df[col] = df[col].apply(lambda x: x==1)\n",
    "    \n",
    "df.head()"
   ]
  },
  {
   "cell_type": "markdown",
   "metadata": {},
   "source": [
    "### But...\n",
    "We still have an issue to solve.<br>\n",
    "Lets take a look at all the genres that we are currently assigning to <b>Radiohead<b/>"
   ]
  },
  {
   "cell_type": "code",
   "execution_count": 116,
   "metadata": {},
   "outputs": [
    {
     "data": {
      "text/html": [
       "<div>\n",
       "<style scoped>\n",
       "    .dataframe tbody tr th:only-of-type {\n",
       "        vertical-align: middle;\n",
       "    }\n",
       "\n",
       "    .dataframe tbody tr th {\n",
       "        vertical-align: top;\n",
       "    }\n",
       "\n",
       "    .dataframe thead th {\n",
       "        text-align: right;\n",
       "    }\n",
       "</style>\n",
       "<table border=\"1\" class=\"dataframe\">\n",
       "  <thead>\n",
       "    <tr style=\"text-align: right;\">\n",
       "      <th></th>\n",
       "      <th>artist</th>\n",
       "      <th>tags</th>\n",
       "    </tr>\n",
       "  </thead>\n",
       "  <tbody>\n",
       "    <tr>\n",
       "      <th>1919</th>\n",
       "      <td>Adele</td>\n",
       "      <td>soul</td>\n",
       "    </tr>\n",
       "    <tr>\n",
       "      <th>1926</th>\n",
       "      <td>Adele</td>\n",
       "      <td>jazz</td>\n",
       "    </tr>\n",
       "    <tr>\n",
       "      <th>1931</th>\n",
       "      <td>Adele</td>\n",
       "      <td>britpop</td>\n",
       "    </tr>\n",
       "    <tr>\n",
       "      <th>1932</th>\n",
       "      <td>Adele</td>\n",
       "      <td>blues</td>\n",
       "    </tr>\n",
       "    <tr>\n",
       "      <th>1933</th>\n",
       "      <td>Adele</td>\n",
       "      <td>indie pop</td>\n",
       "    </tr>\n",
       "    <tr>\n",
       "      <th>1935</th>\n",
       "      <td>Adele</td>\n",
       "      <td>chillout</td>\n",
       "    </tr>\n",
       "    <tr>\n",
       "      <th>1938</th>\n",
       "      <td>Adele</td>\n",
       "      <td>rnb</td>\n",
       "    </tr>\n",
       "    <tr>\n",
       "      <th>1946</th>\n",
       "      <td>Adele</td>\n",
       "      <td>rock</td>\n",
       "    </tr>\n",
       "  </tbody>\n",
       "</table>\n",
       "</div>"
      ],
      "text/plain": [
       "     artist       tags\n",
       "1919  Adele       soul\n",
       "1926  Adele       jazz\n",
       "1931  Adele    britpop\n",
       "1932  Adele      blues\n",
       "1933  Adele  indie pop\n",
       "1935  Adele   chillout\n",
       "1938  Adele        rnb\n",
       "1946  Adele       rock"
      ]
     },
     "execution_count": 116,
     "metadata": {},
     "output_type": "execute_result"
    }
   ],
   "source": [
    "df[(df['artist']=='Adele') & (df['tag_category']=='genre')][['artist', 'tags']]"
   ]
  },
  {
   "cell_type": "markdown",
   "metadata": {},
   "source": [
    "# Need to explain here."
   ]
  },
  {
   "cell_type": "code",
   "execution_count": 31,
   "metadata": {},
   "outputs": [],
   "source": [
    "df_genres = df[df['tag_category'] == 'genre']\n",
    "df['tag_order'] = df_genres.groupby('artist').cumcount() + 1\n",
    "df['tag_order'] = df['tag_order'].fillna(1).astype(int)\n",
    "df = df[df['tag_order'] < 4]\n"
   ]
  },
  {
   "cell_type": "code",
   "execution_count": 35,
   "metadata": {},
   "outputs": [],
   "source": [
    "df.sort_values(by=['tags', 'scrobbles'], ascending=False, inplace=True)\n",
    "df['artist_rank_by_tag'] = df.groupby(by=['tags'])['scrobbles'].rank(method='dense', ascending=False).astype(int)"
   ]
  },
  {
   "cell_type": "code",
   "execution_count": 50,
   "metadata": {},
   "outputs": [
    {
     "data": {
      "text/plain": [
       "<AxesSubplot:xlabel='listeners', ylabel='scrobbles'>"
      ]
     },
     "execution_count": 50,
     "metadata": {},
     "output_type": "execute_result"
    },
    {
     "data": {
      "image/png": "[encoded data removed]",
      "text/plain": [
       "<Figure size 432x288 with 1 Axes>"
      ]
     },
     "metadata": {
      "needs_background": "light"
     },
     "output_type": "display_data"
    }
   ],
   "source": [
    "df.plot.scatter(x='listeners', y='scrobbles')"
   ]
  },
  {
   "cell_type": "code",
   "execution_count": 39,
   "metadata": {},
   "outputs": [],
   "source": [
    "df['tags'] = df['tags'].str.capitalize()"
   ]
  },
  {
   "cell_type": "code",
   "execution_count": 478,
   "metadata": {},
   "outputs": [],
   "source": [
    "\n",
    "df.to_csv('Datasets/lastfm_tags.csv', index=False)\n",
    "##df.to_csv('Datasets/lastfm_artists.csv', index=False)"
   ]
  },
  {
   "cell_type": "code",
   "execution_count": 235,
   "metadata": {},
   "outputs": [
    {
     "data": {
      "text/html": [
       "<div>\n",
       "<style scoped>\n",
       "    .dataframe tbody tr th:only-of-type {\n",
       "        vertical-align: middle;\n",
       "    }\n",
       "\n",
       "    .dataframe tbody tr th {\n",
       "        vertical-align: top;\n",
       "    }\n",
       "\n",
       "    .dataframe thead th {\n",
       "        text-align: right;\n",
       "    }\n",
       "</style>\n",
       "<table border=\"1\" class=\"dataframe\">\n",
       "  <thead>\n",
       "    <tr style=\"text-align: right;\">\n",
       "      <th></th>\n",
       "      <th>artist</th>\n",
       "      <th>country</th>\n",
       "      <th>tags</th>\n",
       "      <th>listeners</th>\n",
       "      <th>scrobbles</th>\n",
       "      <th>tag_category</th>\n",
       "      <th>artist_unique</th>\n",
       "      <th>tags_artist_unique</th>\n",
       "      <th>country_artist_unique</th>\n",
       "    </tr>\n",
       "  </thead>\n",
       "  <tbody>\n",
       "    <tr>\n",
       "      <th>28</th>\n",
       "      <td>Radiohead</td>\n",
       "      <td>United Kingdom</td>\n",
       "      <td>Melancholy</td>\n",
       "      <td>4732528</td>\n",
       "      <td>499548797</td>\n",
       "      <td>mood</td>\n",
       "      <td>False</td>\n",
       "      <td>True</td>\n",
       "      <td>False</td>\n",
       "    </tr>\n",
       "    <tr>\n",
       "      <th>35</th>\n",
       "      <td>Radiohead</td>\n",
       "      <td>United Kingdom</td>\n",
       "      <td>Beautiful</td>\n",
       "      <td>4732528</td>\n",
       "      <td>499548797</td>\n",
       "      <td>mood</td>\n",
       "      <td>False</td>\n",
       "      <td>True</td>\n",
       "      <td>False</td>\n",
       "    </tr>\n",
       "  </tbody>\n",
       "</table>\n",
       "</div>"
      ],
      "text/plain": [
       "       artist         country        tags  listeners  scrobbles tag_category  \\\n",
       "28  Radiohead  United Kingdom  Melancholy    4732528  499548797         mood   \n",
       "35  Radiohead  United Kingdom   Beautiful    4732528  499548797         mood   \n",
       "\n",
       "    artist_unique  tags_artist_unique  country_artist_unique  \n",
       "28          False                True                  False  \n",
       "35          False                True                  False  "
      ]
     },
     "execution_count": 235,
     "metadata": {},
     "output_type": "execute_result"
    }
   ],
   "source": [
    "df[(df['artist']=='Radiohead') & (df['tag_category'] == 'mood')].head(20)"
   ]
  },
  {
   "cell_type": "code",
   "execution_count": null,
   "metadata": {},
   "outputs": [],
   "source": []
  }
 ],
 "metadata": {
  "interpreter": {
   "hash": "929d62977bf2d888c36311be9d0accb34e312f263bdc0e4da1ad618d3be921c5"
  },
  "kernelspec": {
   "display_name": "Python 3.7.9 64-bit ('base': conda)",
   "language": "python",
   "name": "python3"
  },
  "language_info": {
   "codemirror_mode": {
    "name": "ipython",
    "version": 3
   },
   "file_extension": ".py",
   "mimetype": "text/x-python",
   "name": "python",
   "nbconvert_exporter": "python",
   "pygments_lexer": "ipython3",
   "version": "3.7.9"
  },
  "orig_nbformat": 4
 },
 "nbformat": 4,
 "nbformat_minor": 2
}
