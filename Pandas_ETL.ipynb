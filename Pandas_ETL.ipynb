{
 "cells": [
  {
   "cell_type": "markdown",
   "metadata": {},
   "source": [
    "# LastFM Popularity\n",
    "\n",
    "<b>What</b> are the most popular musical genres in LastFM? <b>Who</b> are the most popular artists in each genre, and <b>where</b> do they come from? <br>\n",
    "<b>When</b> were these music made? <b>What</b> are their mood?\n",
    "\n",
    "These are the questions that these project makes. We will levarege the [dataset](https://www.kaggle.com/pieca111/music-artists-popularity) made available in Kaggle by [Piotr](https://www.kaggle.com/pieca111) to answer them.\n",
    "\n",
    "### Lets take a look at the dataset."
   ]
  },
  {
   "cell_type": "code",
   "execution_count": 125,
   "metadata": {},
   "outputs": [
    {
     "data": {
      "text/html": [
       "<div>\n",
       "<style scoped>\n",
       "    .dataframe tbody tr th:only-of-type {\n",
       "        vertical-align: middle;\n",
       "    }\n",
       "\n",
       "    .dataframe tbody tr th {\n",
       "        vertical-align: top;\n",
       "    }\n",
       "\n",
       "    .dataframe thead th {\n",
       "        text-align: right;\n",
       "    }\n",
       "</style>\n",
       "<table border=\"1\" class=\"dataframe\">\n",
       "  <thead>\n",
       "    <tr style=\"text-align: right;\">\n",
       "      <th></th>\n",
       "      <th>mbid</th>\n",
       "      <th>artist_mb</th>\n",
       "      <th>artist_lastfm</th>\n",
       "      <th>country_mb</th>\n",
       "      <th>country_lastfm</th>\n",
       "      <th>tags_mb</th>\n",
       "      <th>tags_lastfm</th>\n",
       "      <th>listeners_lastfm</th>\n",
       "      <th>scrobbles_lastfm</th>\n",
       "      <th>ambiguous_artist</th>\n",
       "    </tr>\n",
       "  </thead>\n",
       "  <tbody>\n",
       "    <tr>\n",
       "      <th>0</th>\n",
       "      <td>cc197bad-dc9c-440d-a5b5-d52ba2e14234</td>\n",
       "      <td>Coldplay</td>\n",
       "      <td>Coldplay</td>\n",
       "      <td>United Kingdom</td>\n",
       "      <td>United Kingdom</td>\n",
       "      <td>rock; pop; alternative rock; british; uk; brit...</td>\n",
       "      <td>rock; alternative; britpop; alternative rock; ...</td>\n",
       "      <td>5381567.0</td>\n",
       "      <td>360111850.0</td>\n",
       "      <td>False</td>\n",
       "    </tr>\n",
       "  </tbody>\n",
       "</table>\n",
       "</div>"
      ],
      "text/plain": [
       "                                   mbid artist_mb artist_lastfm  \\\n",
       "0  cc197bad-dc9c-440d-a5b5-d52ba2e14234  Coldplay      Coldplay   \n",
       "\n",
       "       country_mb  country_lastfm  \\\n",
       "0  United Kingdom  United Kingdom   \n",
       "\n",
       "                                             tags_mb  \\\n",
       "0  rock; pop; alternative rock; british; uk; brit...   \n",
       "\n",
       "                                         tags_lastfm  listeners_lastfm  \\\n",
       "0  rock; alternative; britpop; alternative rock; ...         5381567.0   \n",
       "\n",
       "   scrobbles_lastfm  ambiguous_artist  \n",
       "0       360111850.0             False  "
      ]
     },
     "execution_count": 125,
     "metadata": {},
     "output_type": "execute_result"
    }
   ],
   "source": [
    "import pandas as pd\n",
    "df = pd.read_csv('Datasets/artists.csv', dtype=dict(\n",
    "    artist_lastfm=str, country_lastfm=str, tags_lastfm=str))\n",
    "\n",
    "df.head(1)"
   ]
  },
  {
   "cell_type": "markdown",
   "metadata": {},
   "source": [
    "To answer the questions we posed at the beginning, we will need:<br>\n",
    "- <b>ambiguous_artist</b> | Sometimes more than one artist may share the same name\n",
    "- <b>artist_lastfm</b> | Artist name in LastFM\n",
    "- <b>country_lastfm</b> | Their countries\n",
    "- <b>tags_lastfm</b> | Their tags\n",
    "- <b>listeners_lastfm</b> | You get the idea.\n",
    "- <b>scrobbles_lastfm</b>\n",
    "\n",
    "\n"
   ]
  },
  {
   "cell_type": "code",
   "execution_count": 126,
   "metadata": {},
   "outputs": [
    {
     "data": {
      "text/html": [
       "<div>\n",
       "<style scoped>\n",
       "    .dataframe tbody tr th:only-of-type {\n",
       "        vertical-align: middle;\n",
       "    }\n",
       "\n",
       "    .dataframe tbody tr th {\n",
       "        vertical-align: top;\n",
       "    }\n",
       "\n",
       "    .dataframe thead th {\n",
       "        text-align: right;\n",
       "    }\n",
       "</style>\n",
       "<table border=\"1\" class=\"dataframe\">\n",
       "  <thead>\n",
       "    <tr style=\"text-align: right;\">\n",
       "      <th></th>\n",
       "      <th>ambiguous_artist</th>\n",
       "      <th>artist_lastfm</th>\n",
       "      <th>country_lastfm</th>\n",
       "      <th>tags_lastfm</th>\n",
       "      <th>listeners_lastfm</th>\n",
       "      <th>scrobbles_lastfm</th>\n",
       "    </tr>\n",
       "  </thead>\n",
       "  <tbody>\n",
       "    <tr>\n",
       "      <th>0</th>\n",
       "      <td>False</td>\n",
       "      <td>Coldplay</td>\n",
       "      <td>United Kingdom</td>\n",
       "      <td>rock; alternative; britpop; alternative rock; ...</td>\n",
       "      <td>5381567.0</td>\n",
       "      <td>360111850.0</td>\n",
       "    </tr>\n",
       "    <tr>\n",
       "      <th>1</th>\n",
       "      <td>False</td>\n",
       "      <td>Radiohead</td>\n",
       "      <td>United Kingdom</td>\n",
       "      <td>alternative; alternative rock; rock; indie; el...</td>\n",
       "      <td>4732528.0</td>\n",
       "      <td>499548797.0</td>\n",
       "    </tr>\n",
       "    <tr>\n",
       "      <th>2</th>\n",
       "      <td>False</td>\n",
       "      <td>Red Hot Chili Peppers</td>\n",
       "      <td>United States</td>\n",
       "      <td>rock; alternative rock; alternative; Funk Rock...</td>\n",
       "      <td>4620835.0</td>\n",
       "      <td>293784041.0</td>\n",
       "    </tr>\n",
       "    <tr>\n",
       "      <th>3</th>\n",
       "      <td>False</td>\n",
       "      <td>Rihanna</td>\n",
       "      <td>Barbados; United States</td>\n",
       "      <td>pop; rnb; female vocalists; dance; Hip-Hop; Ri...</td>\n",
       "      <td>4558193.0</td>\n",
       "      <td>199248986.0</td>\n",
       "    </tr>\n",
       "    <tr>\n",
       "      <th>4</th>\n",
       "      <td>False</td>\n",
       "      <td>Eminem</td>\n",
       "      <td>United States</td>\n",
       "      <td>rap; Hip-Hop; Eminem; hip hop; pop; american; ...</td>\n",
       "      <td>4517997.0</td>\n",
       "      <td>199507511.0</td>\n",
       "    </tr>\n",
       "  </tbody>\n",
       "</table>\n",
       "</div>"
      ],
      "text/plain": [
       "   ambiguous_artist          artist_lastfm           country_lastfm  \\\n",
       "0             False               Coldplay           United Kingdom   \n",
       "1             False              Radiohead           United Kingdom   \n",
       "2             False  Red Hot Chili Peppers            United States   \n",
       "3             False                Rihanna  Barbados; United States   \n",
       "4             False                 Eminem            United States   \n",
       "\n",
       "                                         tags_lastfm  listeners_lastfm  \\\n",
       "0  rock; alternative; britpop; alternative rock; ...         5381567.0   \n",
       "1  alternative; alternative rock; rock; indie; el...         4732528.0   \n",
       "2  rock; alternative rock; alternative; Funk Rock...         4620835.0   \n",
       "3  pop; rnb; female vocalists; dance; Hip-Hop; Ri...         4558193.0   \n",
       "4  rap; Hip-Hop; Eminem; hip hop; pop; american; ...         4517997.0   \n",
       "\n",
       "   scrobbles_lastfm  \n",
       "0       360111850.0  \n",
       "1       499548797.0  \n",
       "2       293784041.0  \n",
       "3       199248986.0  \n",
       "4       199507511.0  "
      ]
     },
     "execution_count": 126,
     "metadata": {},
     "output_type": "execute_result"
    }
   ],
   "source": [
    "df = df[['ambiguous_artist', 'artist_lastfm', 'country_lastfm', 'tags_lastfm', 'listeners_lastfm', 'scrobbles_lastfm']]\n",
    "df.head()"
   ]
  },
  {
   "cell_type": "markdown",
   "metadata": {},
   "source": [
    "Way better.\n",
    "### <b>However</b>"
   ]
  },
  {
   "cell_type": "code",
   "execution_count": 127,
   "metadata": {},
   "outputs": [
    {
     "data": {
      "text/html": [
       "<div>\n",
       "<style scoped>\n",
       "    .dataframe tbody tr th:only-of-type {\n",
       "        vertical-align: middle;\n",
       "    }\n",
       "\n",
       "    .dataframe tbody tr th {\n",
       "        vertical-align: top;\n",
       "    }\n",
       "\n",
       "    .dataframe thead th {\n",
       "        text-align: right;\n",
       "    }\n",
       "</style>\n",
       "<table border=\"1\" class=\"dataframe\">\n",
       "  <thead>\n",
       "    <tr style=\"text-align: right;\">\n",
       "      <th></th>\n",
       "      <th>ambiguous_artist</th>\n",
       "      <th>artist_lastfm</th>\n",
       "      <th>country_lastfm</th>\n",
       "      <th>tags_lastfm</th>\n",
       "      <th>listeners_lastfm</th>\n",
       "      <th>scrobbles_lastfm</th>\n",
       "    </tr>\n",
       "  </thead>\n",
       "  <tbody>\n",
       "    <tr>\n",
       "      <th>1466078</th>\n",
       "      <td>False</td>\n",
       "      <td>NaN</td>\n",
       "      <td>South Korea</td>\n",
       "      <td>NaN</td>\n",
       "      <td>NaN</td>\n",
       "      <td>NaN</td>\n",
       "    </tr>\n",
       "    <tr>\n",
       "      <th>1466079</th>\n",
       "      <td>False</td>\n",
       "      <td>NaN</td>\n",
       "      <td>NaN</td>\n",
       "      <td>NaN</td>\n",
       "      <td>NaN</td>\n",
       "      <td>NaN</td>\n",
       "    </tr>\n",
       "    <tr>\n",
       "      <th>1466080</th>\n",
       "      <td>False</td>\n",
       "      <td>NaN</td>\n",
       "      <td>NaN</td>\n",
       "      <td>NaN</td>\n",
       "      <td>NaN</td>\n",
       "      <td>NaN</td>\n",
       "    </tr>\n",
       "    <tr>\n",
       "      <th>1466081</th>\n",
       "      <td>False</td>\n",
       "      <td>NaN</td>\n",
       "      <td>South Korea</td>\n",
       "      <td>NaN</td>\n",
       "      <td>NaN</td>\n",
       "      <td>NaN</td>\n",
       "    </tr>\n",
       "    <tr>\n",
       "      <th>1466082</th>\n",
       "      <td>False</td>\n",
       "      <td>NaN</td>\n",
       "      <td>South Korea</td>\n",
       "      <td>NaN</td>\n",
       "      <td>NaN</td>\n",
       "      <td>NaN</td>\n",
       "    </tr>\n",
       "  </tbody>\n",
       "</table>\n",
       "</div>"
      ],
      "text/plain": [
       "         ambiguous_artist artist_lastfm country_lastfm tags_lastfm  \\\n",
       "1466078             False           NaN    South Korea         NaN   \n",
       "1466079             False           NaN            NaN         NaN   \n",
       "1466080             False           NaN            NaN         NaN   \n",
       "1466081             False           NaN    South Korea         NaN   \n",
       "1466082             False           NaN    South Korea         NaN   \n",
       "\n",
       "         listeners_lastfm  scrobbles_lastfm  \n",
       "1466078               NaN               NaN  \n",
       "1466079               NaN               NaN  \n",
       "1466080               NaN               NaN  \n",
       "1466081               NaN               NaN  \n",
       "1466082               NaN               NaN  "
      ]
     },
     "execution_count": 127,
     "metadata": {},
     "output_type": "execute_result"
    }
   ],
   "source": [
    "df.tail()"
   ]
  },
  {
   "cell_type": "markdown",
   "metadata": {},
   "source": [
    "Looks like we have our fair share of null values"
   ]
  },
  {
   "cell_type": "code",
   "execution_count": 128,
   "metadata": {},
   "outputs": [
    {
     "name": "stdout",
     "output_type": "stream",
     "text": [
      "Number of null values by columns: \n",
      " ambiguous_artist          0\n",
      "artist_lastfm        479327\n",
      "country_lastfm      1254585\n",
      "tags_lastfm         1085008\n",
      "listeners_lastfm     479323\n",
      "scrobbles_lastfm     479323\n",
      "dtype: int64\n",
      "\n",
      " Number of rows in the dataset: \n",
      " 1466083\n"
     ]
    }
   ],
   "source": [
    "print('Number of null values by columns: \\n' ,df.isna().sum())\n",
    "print('\\n Number of rows in the dataset: \\n', len(df))"
   ]
  },
  {
   "cell_type": "markdown",
   "metadata": {},
   "source": [
    "The column with the highest number of null values if country_lastfm, with a null rate of approximately 85%. <br>\n",
    "It might reasonable to assume that the artists with no country filled in their lastfm page are not among the most popular. Lets drop all null values and see with what we end up with."
   ]
  },
  {
   "cell_type": "code",
   "execution_count": 129,
   "metadata": {},
   "outputs": [
    {
     "name": "stdout",
     "output_type": "stream",
     "text": [
      "Total scrobbles (plays) before filtering null values:\n",
      "120,324,972,038.0\n",
      "...and after:\n",
      "102,827,413,080.0\n"
     ]
    }
   ],
   "source": [
    "print('Total scrobbles (plays) before filtering null values:')\n",
    "print(f'{df[\"scrobbles_lastfm\"].sum():,}')\n",
    "\n",
    "df.dropna(axis=0, how='any', inplace=True)\n",
    "\n",
    "print('...and after:')\n",
    "print(f'{df[\"scrobbles_lastfm\"].sum():,}')"
   ]
  },
  {
   "cell_type": "markdown",
   "metadata": {},
   "source": [
    "So we are losing less than 20% of the total plays by doing so.<br><br>\n",
    "Now, lets see how much we lose by dropping the ambiguous artists"
   ]
  },
  {
   "cell_type": "code",
   "execution_count": 130,
   "metadata": {},
   "outputs": [
    {
     "name": "stdout",
     "output_type": "stream",
     "text": [
      "Total number of plays: 87,214,810,301.0\n",
      "Total number of unique artists: 171,128\n"
     ]
    }
   ],
   "source": [
    "df.drop(df[df['ambiguous_artist']].index, inplace=True)\n",
    "df.drop(df[df['scrobbles_lastfm'] <= 0].index, inplace=True) # lets drop artists with no plays as well\n",
    "print('Total number of plays:' ,f'{df[\"scrobbles_lastfm\"].sum():,}')\n",
    "print('Total number of unique artists:' ,f'{len(df):,}')"
   ]
  },
  {
   "cell_type": "markdown",
   "metadata": {},
   "source": [
    "So we are set with 3/4 of the original number of plays and with over 170 thousand unique artists. That will do. <br><br>\n",
    "Some standard dataprep:"
   ]
  },
  {
   "cell_type": "code",
   "execution_count": 131,
   "metadata": {},
   "outputs": [
    {
     "data": {
      "text/html": [
       "<div>\n",
       "<style scoped>\n",
       "    .dataframe tbody tr th:only-of-type {\n",
       "        vertical-align: middle;\n",
       "    }\n",
       "\n",
       "    .dataframe tbody tr th {\n",
       "        vertical-align: top;\n",
       "    }\n",
       "\n",
       "    .dataframe thead th {\n",
       "        text-align: right;\n",
       "    }\n",
       "</style>\n",
       "<table border=\"1\" class=\"dataframe\">\n",
       "  <thead>\n",
       "    <tr style=\"text-align: right;\">\n",
       "      <th></th>\n",
       "      <th>artist</th>\n",
       "      <th>country</th>\n",
       "      <th>tags</th>\n",
       "      <th>listeners</th>\n",
       "      <th>scrobbles</th>\n",
       "    </tr>\n",
       "  </thead>\n",
       "  <tbody>\n",
       "    <tr>\n",
       "      <th>17</th>\n",
       "      <td>The Beatles</td>\n",
       "      <td>United Kingdom</td>\n",
       "      <td>classic rock; rock; british; 60s; pop</td>\n",
       "      <td>3674017</td>\n",
       "      <td>517126254</td>\n",
       "    </tr>\n",
       "    <tr>\n",
       "      <th>1</th>\n",
       "      <td>Radiohead</td>\n",
       "      <td>United Kingdom</td>\n",
       "      <td>alternative; alternative rock; rock; indie; el...</td>\n",
       "      <td>4732528</td>\n",
       "      <td>499548797</td>\n",
       "    </tr>\n",
       "    <tr>\n",
       "      <th>0</th>\n",
       "      <td>Coldplay</td>\n",
       "      <td>United Kingdom</td>\n",
       "      <td>rock; alternative; britpop; alternative rock; ...</td>\n",
       "      <td>5381567</td>\n",
       "      <td>360111850</td>\n",
       "    </tr>\n",
       "    <tr>\n",
       "      <th>8</th>\n",
       "      <td>Muse</td>\n",
       "      <td>United Kingdom</td>\n",
       "      <td>alternative rock; rock; alternative; Progressi...</td>\n",
       "      <td>4089612</td>\n",
       "      <td>344838631</td>\n",
       "    </tr>\n",
       "    <tr>\n",
       "      <th>23</th>\n",
       "      <td>Arctic Monkeys</td>\n",
       "      <td>United Kingdom</td>\n",
       "      <td>indie rock; indie; british; rock; alternative;...</td>\n",
       "      <td>3501680</td>\n",
       "      <td>332306552</td>\n",
       "    </tr>\n",
       "  </tbody>\n",
       "</table>\n",
       "</div>"
      ],
      "text/plain": [
       "            artist         country  \\\n",
       "17     The Beatles  United Kingdom   \n",
       "1        Radiohead  United Kingdom   \n",
       "0         Coldplay  United Kingdom   \n",
       "8             Muse  United Kingdom   \n",
       "23  Arctic Monkeys  United Kingdom   \n",
       "\n",
       "                                                 tags  listeners  scrobbles  \n",
       "17              classic rock; rock; british; 60s; pop    3674017  517126254  \n",
       "1   alternative; alternative rock; rock; indie; el...    4732528  499548797  \n",
       "0   rock; alternative; britpop; alternative rock; ...    5381567  360111850  \n",
       "8   alternative rock; rock; alternative; Progressi...    4089612  344838631  \n",
       "23  indie rock; indie; british; rock; alternative;...    3501680  332306552  "
      ]
     },
     "execution_count": 131,
     "metadata": {},
     "output_type": "execute_result"
    }
   ],
   "source": [
    "df.drop(['ambiguous_artist'], axis=1, inplace=True) # We don't need this columns anymore\n",
    "df.columns = ['artist', 'country', 'tags','listeners', 'scrobbles'] # If not at the sacrifice of clarity, shorter names = good\n",
    "df[['scrobbles', 'listeners']] = df[['scrobbles', 'listeners']].astype(int) # There are no half listeners (nor half scrobble)\n",
    "df.sort_values(by='scrobbles', ascending=False, inplace=True)\n",
    "df.head()"
   ]
  },
  {
   "cell_type": "markdown",
   "metadata": {},
   "source": [
    "### We could really use this tags, if only they were each in their own row...."
   ]
  },
  {
   "cell_type": "code",
   "execution_count": 132,
   "metadata": {},
   "outputs": [
    {
     "data": {
      "text/html": [
       "<div>\n",
       "<style scoped>\n",
       "    .dataframe tbody tr th:only-of-type {\n",
       "        vertical-align: middle;\n",
       "    }\n",
       "\n",
       "    .dataframe tbody tr th {\n",
       "        vertical-align: top;\n",
       "    }\n",
       "\n",
       "    .dataframe thead th {\n",
       "        text-align: right;\n",
       "    }\n",
       "</style>\n",
       "<table border=\"1\" class=\"dataframe\">\n",
       "  <thead>\n",
       "    <tr style=\"text-align: right;\">\n",
       "      <th></th>\n",
       "      <th>artist</th>\n",
       "      <th>country</th>\n",
       "      <th>tags</th>\n",
       "      <th>listeners</th>\n",
       "      <th>scrobbles</th>\n",
       "    </tr>\n",
       "  </thead>\n",
       "  <tbody>\n",
       "    <tr>\n",
       "      <th>0</th>\n",
       "      <td>The Beatles</td>\n",
       "      <td>United Kingdom</td>\n",
       "      <td>classic rock</td>\n",
       "      <td>3674017</td>\n",
       "      <td>517126254</td>\n",
       "    </tr>\n",
       "    <tr>\n",
       "      <th>1</th>\n",
       "      <td>The Beatles</td>\n",
       "      <td>United Kingdom</td>\n",
       "      <td>rock</td>\n",
       "      <td>3674017</td>\n",
       "      <td>517126254</td>\n",
       "    </tr>\n",
       "    <tr>\n",
       "      <th>2</th>\n",
       "      <td>The Beatles</td>\n",
       "      <td>United Kingdom</td>\n",
       "      <td>british</td>\n",
       "      <td>3674017</td>\n",
       "      <td>517126254</td>\n",
       "    </tr>\n",
       "    <tr>\n",
       "      <th>3</th>\n",
       "      <td>The Beatles</td>\n",
       "      <td>United Kingdom</td>\n",
       "      <td>60s</td>\n",
       "      <td>3674017</td>\n",
       "      <td>517126254</td>\n",
       "    </tr>\n",
       "    <tr>\n",
       "      <th>4</th>\n",
       "      <td>The Beatles</td>\n",
       "      <td>United Kingdom</td>\n",
       "      <td>pop</td>\n",
       "      <td>3674017</td>\n",
       "      <td>517126254</td>\n",
       "    </tr>\n",
       "  </tbody>\n",
       "</table>\n",
       "</div>"
      ],
      "text/plain": [
       "        artist         country          tags  listeners  scrobbles\n",
       "0  The Beatles  United Kingdom  classic rock    3674017  517126254\n",
       "1  The Beatles  United Kingdom          rock    3674017  517126254\n",
       "2  The Beatles  United Kingdom       british    3674017  517126254\n",
       "3  The Beatles  United Kingdom           60s    3674017  517126254\n",
       "4  The Beatles  United Kingdom           pop    3674017  517126254"
      ]
     },
     "execution_count": 132,
     "metadata": {},
     "output_type": "execute_result"
    }
   ],
   "source": [
    "df['tags'] = df['tags'].apply(lambda x: x.split('; '))\n",
    "df['country'] = df['country'].apply(lambda x: x.split('; '))\n",
    "df = df.explode('tags')\n",
    "df = df_explode_tags.explode('country').copy()\n",
    "df.reset_index(inplace=True, drop=True)\n",
    "df.head()"
   ]
  },
  {
   "cell_type": "code",
   "execution_count": 135,
   "metadata": {},
   "outputs": [
    {
     "name": "stdout",
     "output_type": "stream",
     "text": [
      "323,038\n"
     ]
    }
   ],
   "source": [
    "tags = df_explode.groupby(by='tags').size().sort_values(ascending=False)\n",
    "print(f'{len(tags):,}')"
   ]
  },
  {
   "cell_type": "markdown",
   "metadata": {},
   "source": [
    "We have <b>323,038</b> unique tags."
   ]
  },
  {
   "cell_type": "markdown",
   "metadata": {},
   "source": [
    "<b>Which is quite a lot.</b> <br>\n",
    "<br>\n",
    "We will start off by selecting the <b>top 300 tags</b> in terms of the number of times that they appear to something more manageable to work with."
   ]
  },
  {
   "cell_type": "code",
   "execution_count": 136,
   "metadata": {},
   "outputs": [
    {
     "name": "stdout",
     "output_type": "stream",
     "text": [
      "Index(['seen live', 'rock', 'electronic', 'pop', 'All', 'indie', 'alternative',\n",
      "       'female vocalists', 'under 2000 listeners', 'experimental', 'american',\n",
      "       'folk', 'metal', 'punk', 'male vocalists', 'electronica', 'ambient',\n",
      "       'spotify', 'USA', 'jazz', 'singer-songwriter', 'instrumental',\n",
      "       'hardcore', '00s', 'dance', 'alternative rock', 'indie rock', 'german',\n",
      "       'japanese', 'british', 'Hip-Hop', 'punk rock', '90s', 'psychedelic',\n",
      "       'electro', 'world', '80s', 'chillout', 'death metal', 'acoustic',\n",
      "       'french', 'black metal', 'rap', 'indie pop', 'female vocalist',\n",
      "       'hard rock', 'hip hop', 'techno', 'heavy metal', 'soul'],\n",
      "      dtype='object', name='tags')\n"
     ]
    }
   ],
   "source": [
    "top_tags = tags[:300].copy()\n",
    "print(top_tags.index[:50])"
   ]
  },
  {
   "cell_type": "markdown",
   "metadata": {},
   "source": [
    "### Warning! Arbitraty decisions below\n",
    "We are gonne look through the top 300 tags and manually classify them as on of the following:\n",
    "- Musical genre\n",
    "- Mood\n",
    "- Decade"
   ]
  },
  {
   "cell_type": "code",
   "execution_count": 145,
   "metadata": {},
   "outputs": [],
   "source": [
    "genres = [\n",
    "    'rock', 'pop', 'alternative', 'indie',\n",
    "    'Dance', 'hardcore punk',\n",
    "    'dark ambient', 'folk rock', 'lounge', 'rnb', 'hip hop',\n",
    "    'grindcore', 'doom metal', 'Psychedelic Rock', 'indie folk',\n",
    "    'post-hardcore', 'electropop', 'dub', 'shoegaze',\n",
    "    'JPop', 'Disco', 'country', 'ska', 'Brutal Death Metal',\n",
    "    'Melodic Death Metal', 'Drum and bass', 'darkwave',\n",
    "    'screamo', 'pop punk', 'hiphop', 'Power metal',\n",
    "    'contemporary classical', 'dream pop', 'J-rock', 'new age',\n",
    "    'synth pop', 'Stoner Rock', 'Pop-Rock', 'Garage Rock',\n",
    "    'Grunge', 'Gothic Rock', 'Sludge', 'acid jazz', \n",
    "    'metal', 'punk', 'ambient', 'jazz', 'death metal',\n",
    "    'hardcore', 'alternative rock', 'indie rock',\n",
    "    'Hip-Hop', 'punk rock', 'electro', 'chillout', \n",
    "    'black metal', 'rap', 'indie pop', 'hard rock', \n",
    "    'techno', 'heavy metal', 'soul', 'House', 'Experimental Rock',\n",
    "    'Progressive rock', 'industrial', 'new wave', 'post-punk',\n",
    "    'Classical', 'pop rock', 'Avant-Garde', 'downtempo',\n",
    "    'blues', 'post-rock', 'trance', 'thrash metal', \n",
    "    'classic rock', 'synthpop', 'idm', 'j-pop',\n",
    "    'metalcore', 'reggae', 'minimal', 'Fusion', 'r&b',\n",
    "    'trip-hop', 'Progressive metal', 'Lo-Fi', 'noise rock', \n",
    "    'Gothic Metal', 'blues rock', \n",
    "    'glitch', 'melodic metal', 'Post punk', 'garage',\n",
    "    'soft rock', 'britpop', 'breakbeat', 'power pop'\n",
    "]\n",
    "\n",
    "moods = [\n",
    "    'Love', 'beautiful', 'sexy',\n",
    "    'Mellow', 'groove', 'comedy',\n",
    "    'funky', 'ethereal', 'fun',\n",
    "    'melancholic', 'romantic', 'melancholy',\n",
    "    'relaxing', 'Dreamy',\n",
    "]\n",
    "\n",
    "decade = ['50s', '60s', '70s', '80s', '90s', '00s', '10s']\n"
   ]
  },
  {
   "cell_type": "markdown",
   "metadata": {},
   "source": [
    "Lets keep only the tags that we selected by hand"
   ]
  },
  {
   "cell_type": "code",
   "execution_count": 161,
   "metadata": {},
   "outputs": [],
   "source": [
    "tags_to_keep = genres + moods + decade\n",
    "df.drop(df[~df['tags'].isin(tags_to_keep)].index, axis=0, inplace=True)"
   ]
  },
  {
   "cell_type": "markdown",
   "metadata": {},
   "source": [
    "And lets flag each tag by their category (i.e. if it is a genre, a mood or a decade)"
   ]
  },
  {
   "cell_type": "code",
   "execution_count": 167,
   "metadata": {},
   "outputs": [
    {
     "data": {
      "text/html": [
       "<div>\n",
       "<style scoped>\n",
       "    .dataframe tbody tr th:only-of-type {\n",
       "        vertical-align: middle;\n",
       "    }\n",
       "\n",
       "    .dataframe tbody tr th {\n",
       "        vertical-align: top;\n",
       "    }\n",
       "\n",
       "    .dataframe thead th {\n",
       "        text-align: right;\n",
       "    }\n",
       "</style>\n",
       "<table border=\"1\" class=\"dataframe\">\n",
       "  <thead>\n",
       "    <tr style=\"text-align: right;\">\n",
       "      <th></th>\n",
       "      <th>artist</th>\n",
       "      <th>country</th>\n",
       "      <th>tags</th>\n",
       "      <th>listeners</th>\n",
       "      <th>scrobbles</th>\n",
       "      <th>tag_category</th>\n",
       "    </tr>\n",
       "  </thead>\n",
       "  <tbody>\n",
       "    <tr>\n",
       "      <th>0</th>\n",
       "      <td>The Beatles</td>\n",
       "      <td>United Kingdom</td>\n",
       "      <td>classic rock</td>\n",
       "      <td>3674017</td>\n",
       "      <td>517126254</td>\n",
       "      <td>genre</td>\n",
       "    </tr>\n",
       "    <tr>\n",
       "      <th>1</th>\n",
       "      <td>The Beatles</td>\n",
       "      <td>United Kingdom</td>\n",
       "      <td>rock</td>\n",
       "      <td>3674017</td>\n",
       "      <td>517126254</td>\n",
       "      <td>genre</td>\n",
       "    </tr>\n",
       "    <tr>\n",
       "      <th>3</th>\n",
       "      <td>The Beatles</td>\n",
       "      <td>United Kingdom</td>\n",
       "      <td>60s</td>\n",
       "      <td>3674017</td>\n",
       "      <td>517126254</td>\n",
       "      <td>decade</td>\n",
       "    </tr>\n",
       "    <tr>\n",
       "      <th>4</th>\n",
       "      <td>The Beatles</td>\n",
       "      <td>United Kingdom</td>\n",
       "      <td>pop</td>\n",
       "      <td>3674017</td>\n",
       "      <td>517126254</td>\n",
       "      <td>genre</td>\n",
       "    </tr>\n",
       "    <tr>\n",
       "      <th>5</th>\n",
       "      <td>Radiohead</td>\n",
       "      <td>United Kingdom</td>\n",
       "      <td>alternative</td>\n",
       "      <td>4732528</td>\n",
       "      <td>499548797</td>\n",
       "      <td>genre</td>\n",
       "    </tr>\n",
       "  </tbody>\n",
       "</table>\n",
       "</div>"
      ],
      "text/plain": [
       "        artist         country          tags  listeners  scrobbles  \\\n",
       "0  The Beatles  United Kingdom  classic rock    3674017  517126254   \n",
       "1  The Beatles  United Kingdom          rock    3674017  517126254   \n",
       "3  The Beatles  United Kingdom           60s    3674017  517126254   \n",
       "4  The Beatles  United Kingdom           pop    3674017  517126254   \n",
       "5    Radiohead  United Kingdom   alternative    4732528  499548797   \n",
       "\n",
       "  tag_category  \n",
       "0        genre  \n",
       "1        genre  \n",
       "3       decade  \n",
       "4        genre  \n",
       "5        genre  "
      ]
     },
     "execution_count": 167,
     "metadata": {},
     "output_type": "execute_result"
    }
   ],
   "source": [
    "tags = [genres, moods, decade]\n",
    "categories = ['genre', 'mood', 'decade']\n",
    "tags_categories = dict()\n",
    "\n",
    "for tag_group, category in zip(tags, categories):\n",
    "    for tag in tag_group:\n",
    "        tags_categories[tag] = category\n",
    "\n",
    "df['tag_category'] = df['tags'].map(tags_categories)\n",
    "df.head()"
   ]
  },
  {
   "cell_type": "markdown",
   "metadata": {},
   "source": [
    "Some tags can be found written in more than one way, such as melancholic and melancholy. Lets create a mapping between them and standarize our tags."
   ]
  },
  {
   "cell_type": "code",
   "execution_count": 171,
   "metadata": {},
   "outputs": [],
   "source": [
    "duplicate_tag_mapping = {\n",
    "    'hip hop': 'Hip-Hop',\n",
    "    'hiphop': 'Hip-Hop',\n",
    "    'JPop': 'j-pop',\n",
    "    'pop rock': 'Pop-Rock',\n",
    "    'r&b': 'rnb',\n",
    "    'synth pop': 'synthpop',\n",
    "    'melancholic': 'melancholy'\n",
    "}\n",
    "df['tags'] = df['tags'].map(duplicate_tag_mapping).fillna(df['tags'])\n",
    "df.drop_duplicates(inplace=True) # We are creating duplicate records by doing this.\n"
   ]
  },
  {
   "cell_type": "markdown",
   "metadata": {},
   "source": [
    "# you stopped here"
   ]
  },
  {
   "cell_type": "markdown",
   "metadata": {},
   "source": [
    "### Avoiding Value Duplication\n",
    "When calculation the total listeners for one artist, we don't want to add the listener values for every row the artist appears (i.e. appears in one row for every tag-country (some gorups are composed of members from multiple countries) combination it has)"
   ]
  },
  {
   "cell_type": "code",
   "execution_count": 474,
   "metadata": {},
   "outputs": [],
   "source": [
    "df_explode['artist_unique'] =  df_explode.groupby(['artist']).cumcount() + 1\n",
    "df_explode['tags_artist_unique'] = df_explode.groupby(['artist', 'tags']).cumcount() + 1\n",
    "df_explode['country_artist_unique'] = df_explode.groupby(['artist', 'country']).cumcount() + 1"
   ]
  },
  {
   "cell_type": "code",
   "execution_count": 475,
   "metadata": {},
   "outputs": [],
   "source": [
    "# Some artist have too many tags, it looks like they are ordered by relevance (to some point)\n",
    "# So lets keep only the top 3 tag by artist\n",
    "df_explode.reset_index(inplace=True, drop=True)\n",
    "df_explode.drop(df_explode[df_explode['country_artist_unique'] > 3].index, inplace=True)"
   ]
  },
  {
   "cell_type": "code",
   "execution_count": 476,
   "metadata": {},
   "outputs": [],
   "source": [
    "cols_to_bool = ['artist_unique', 'tags_artist_unique', 'country_artist_unique']\n",
    "for col in cols_to_bool:\n",
    "    df_explode[col] = df_explode[col].apply(lambda x: x==1)"
   ]
  },
  {
   "cell_type": "markdown",
   "metadata": {},
   "source": [
    "### Artist Rank by Genre"
   ]
  },
  {
   "cell_type": "code",
   "execution_count": 477,
   "metadata": {},
   "outputs": [],
   "source": [
    "df_explode.sort_values(by=['tags', 'scrobbles'], ascending=False, inplace=True)\n",
    "df_explode['artist_rank_by_genre'] = df_explode.groupby(by=['tags'])['scrobbles'].rank(method='dense', ascending=False)"
   ]
  },
  {
   "cell_type": "markdown",
   "metadata": {},
   "source": [
    "### Export"
   ]
  },
  {
   "cell_type": "code",
   "execution_count": 478,
   "metadata": {},
   "outputs": [],
   "source": [
    "df_explode['tags'] = df_explode['tags'].str.capitalize()\n",
    "df_explode.to_csv('Datasets/lastfm_tags.csv', index=False)\n",
    "df.to_csv('Datasets/lastfm_artists.csv', index=False)"
   ]
  },
  {
   "cell_type": "code",
   "execution_count": 484,
   "metadata": {},
   "outputs": [
    {
     "data": {
      "text/html": [
       "<div>\n",
       "<style scoped>\n",
       "    .dataframe tbody tr th:only-of-type {\n",
       "        vertical-align: middle;\n",
       "    }\n",
       "\n",
       "    .dataframe tbody tr th {\n",
       "        vertical-align: top;\n",
       "    }\n",
       "\n",
       "    .dataframe thead th {\n",
       "        text-align: right;\n",
       "    }\n",
       "</style>\n",
       "<table border=\"1\" class=\"dataframe\">\n",
       "  <thead>\n",
       "    <tr style=\"text-align: right;\">\n",
       "      <th></th>\n",
       "      <th>artist</th>\n",
       "      <th>country</th>\n",
       "      <th>tags</th>\n",
       "      <th>listeners</th>\n",
       "      <th>scrobbles</th>\n",
       "      <th>artist_unique</th>\n",
       "      <th>tags_artist_unique</th>\n",
       "      <th>country_artist_unique</th>\n",
       "      <th>artist_rank_by_genre</th>\n",
       "    </tr>\n",
       "  </thead>\n",
       "  <tbody>\n",
       "    <tr>\n",
       "      <th>174</th>\n",
       "      <td>Lana Del Rey</td>\n",
       "      <td>United States</td>\n",
       "      <td>Jazz</td>\n",
       "      <td>1881065.0</td>\n",
       "      <td>217157209.0</td>\n",
       "      <td>False</td>\n",
       "      <td>True</td>\n",
       "      <td>False</td>\n",
       "      <td>1.0</td>\n",
       "    </tr>\n",
       "    <tr>\n",
       "      <th>641</th>\n",
       "      <td>Christina Aguilera</td>\n",
       "      <td>United States</td>\n",
       "      <td>Jazz</td>\n",
       "      <td>2788515.0</td>\n",
       "      <td>128756438.0</td>\n",
       "      <td>True</td>\n",
       "      <td>True</td>\n",
       "      <td>True</td>\n",
       "      <td>2.0</td>\n",
       "    </tr>\n",
       "    <tr>\n",
       "      <th>959</th>\n",
       "      <td>John Mayer</td>\n",
       "      <td>United States</td>\n",
       "      <td>Jazz</td>\n",
       "      <td>2453071.0</td>\n",
       "      <td>110319385.0</td>\n",
       "      <td>False</td>\n",
       "      <td>True</td>\n",
       "      <td>False</td>\n",
       "      <td>3.0</td>\n",
       "    </tr>\n",
       "    <tr>\n",
       "      <th>1579</th>\n",
       "      <td>Portishead</td>\n",
       "      <td>United Kingdom</td>\n",
       "      <td>Jazz</td>\n",
       "      <td>2094008.0</td>\n",
       "      <td>83662916.0</td>\n",
       "      <td>True</td>\n",
       "      <td>True</td>\n",
       "      <td>True</td>\n",
       "      <td>4.0</td>\n",
       "    </tr>\n",
       "    <tr>\n",
       "      <th>1714</th>\n",
       "      <td>Sia</td>\n",
       "      <td>Australia</td>\n",
       "      <td>Jazz</td>\n",
       "      <td>2124548.0</td>\n",
       "      <td>80113588.0</td>\n",
       "      <td>False</td>\n",
       "      <td>True</td>\n",
       "      <td>False</td>\n",
       "      <td>5.0</td>\n",
       "    </tr>\n",
       "    <tr>\n",
       "      <th>...</th>\n",
       "      <td>...</td>\n",
       "      <td>...</td>\n",
       "      <td>...</td>\n",
       "      <td>...</td>\n",
       "      <td>...</td>\n",
       "      <td>...</td>\n",
       "      <td>...</td>\n",
       "      <td>...</td>\n",
       "      <td>...</td>\n",
       "    </tr>\n",
       "    <tr>\n",
       "      <th>892445</th>\n",
       "      <td>Lesław Lic Jazz Ensemble</td>\n",
       "      <td>Poland</td>\n",
       "      <td>Jazz</td>\n",
       "      <td>10.0</td>\n",
       "      <td>14.0</td>\n",
       "      <td>True</td>\n",
       "      <td>True</td>\n",
       "      <td>True</td>\n",
       "      <td>8684.0</td>\n",
       "    </tr>\n",
       "    <tr>\n",
       "      <th>892503</th>\n",
       "      <td>Sylvain Kassap &amp; François Corneloup</td>\n",
       "      <td>France</td>\n",
       "      <td>Jazz</td>\n",
       "      <td>2.0</td>\n",
       "      <td>12.0</td>\n",
       "      <td>True</td>\n",
       "      <td>True</td>\n",
       "      <td>True</td>\n",
       "      <td>8685.0</td>\n",
       "    </tr>\n",
       "    <tr>\n",
       "      <th>892553</th>\n",
       "      <td>Jerzy Herman Jazz Ensemble</td>\n",
       "      <td>Poland</td>\n",
       "      <td>Jazz</td>\n",
       "      <td>7.0</td>\n",
       "      <td>9.0</td>\n",
       "      <td>True</td>\n",
       "      <td>True</td>\n",
       "      <td>True</td>\n",
       "      <td>8686.0</td>\n",
       "    </tr>\n",
       "    <tr>\n",
       "      <th>892706</th>\n",
       "      <td>Shaydze Ov Colour</td>\n",
       "      <td>United Kingdom</td>\n",
       "      <td>Jazz</td>\n",
       "      <td>3.0</td>\n",
       "      <td>4.0</td>\n",
       "      <td>True</td>\n",
       "      <td>True</td>\n",
       "      <td>True</td>\n",
       "      <td>8687.0</td>\n",
       "    </tr>\n",
       "    <tr>\n",
       "      <th>892735</th>\n",
       "      <td>Eddy Meenk</td>\n",
       "      <td>Netherlands</td>\n",
       "      <td>Jazz</td>\n",
       "      <td>3.0</td>\n",
       "      <td>3.0</td>\n",
       "      <td>True</td>\n",
       "      <td>True</td>\n",
       "      <td>True</td>\n",
       "      <td>8688.0</td>\n",
       "    </tr>\n",
       "  </tbody>\n",
       "</table>\n",
       "<p>10989 rows × 9 columns</p>\n",
       "</div>"
      ],
      "text/plain": [
       "                                     artist         country  tags  listeners  \\\n",
       "174                            Lana Del Rey   United States  Jazz  1881065.0   \n",
       "641                      Christina Aguilera   United States  Jazz  2788515.0   \n",
       "959                              John Mayer   United States  Jazz  2453071.0   \n",
       "1579                             Portishead  United Kingdom  Jazz  2094008.0   \n",
       "1714                                    Sia       Australia  Jazz  2124548.0   \n",
       "...                                     ...             ...   ...        ...   \n",
       "892445             Lesław Lic Jazz Ensemble          Poland  Jazz       10.0   \n",
       "892503  Sylvain Kassap & François Corneloup          France  Jazz        2.0   \n",
       "892553           Jerzy Herman Jazz Ensemble          Poland  Jazz        7.0   \n",
       "892706                    Shaydze Ov Colour  United Kingdom  Jazz        3.0   \n",
       "892735                           Eddy Meenk     Netherlands  Jazz        3.0   \n",
       "\n",
       "          scrobbles  artist_unique  tags_artist_unique  country_artist_unique  \\\n",
       "174     217157209.0          False                True                  False   \n",
       "641     128756438.0           True                True                   True   \n",
       "959     110319385.0          False                True                  False   \n",
       "1579     83662916.0           True                True                   True   \n",
       "1714     80113588.0          False                True                  False   \n",
       "...             ...            ...                 ...                    ...   \n",
       "892445         14.0           True                True                   True   \n",
       "892503         12.0           True                True                   True   \n",
       "892553          9.0           True                True                   True   \n",
       "892706          4.0           True                True                   True   \n",
       "892735          3.0           True                True                   True   \n",
       "\n",
       "        artist_rank_by_genre  \n",
       "174                      1.0  \n",
       "641                      2.0  \n",
       "959                      3.0  \n",
       "1579                     4.0  \n",
       "1714                     5.0  \n",
       "...                      ...  \n",
       "892445                8684.0  \n",
       "892503                8685.0  \n",
       "892553                8686.0  \n",
       "892706                8687.0  \n",
       "892735                8688.0  \n",
       "\n",
       "[10989 rows x 9 columns]"
      ]
     },
     "execution_count": 484,
     "metadata": {},
     "output_type": "execute_result"
    }
   ],
   "source": [
    "df_explode[df_explode['tags']=='Jazz']"
   ]
  },
  {
   "cell_type": "code",
   "execution_count": null,
   "metadata": {},
   "outputs": [],
   "source": []
  }
 ],
 "metadata": {
  "interpreter": {
   "hash": "929d62977bf2d888c36311be9d0accb34e312f263bdc0e4da1ad618d3be921c5"
  },
  "kernelspec": {
   "display_name": "Python 3.7.9 64-bit ('base': conda)",
   "language": "python",
   "name": "python3"
  },
  "language_info": {
   "codemirror_mode": {
    "name": "ipython",
    "version": 3
   },
   "file_extension": ".py",
   "mimetype": "text/x-python",
   "name": "python",
   "nbconvert_exporter": "python",
   "pygments_lexer": "ipython3",
   "version": "3.7.9"
  },
  "orig_nbformat": 4
 },
 "nbformat": 4,
 "nbformat_minor": 2
}
